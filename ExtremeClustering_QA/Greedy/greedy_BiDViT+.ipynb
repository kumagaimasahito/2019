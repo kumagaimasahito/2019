{
  "nbformat": 4,
  "nbformat_minor": 0,
  "metadata": {
    "colab": {
      "name": "greedy_BiDViT+.ipynb",
      "provenance": [],
      "collapsed_sections": [],
      "include_colab_link": true
    },
    "kernelspec": {
      "display_name": "Python 3",
      "language": "python",
      "name": "python3"
    },
    "language_info": {
      "codemirror_mode": {
        "name": "ipython",
        "version": 3
      },
      "file_extension": ".py",
      "mimetype": "text/x-python",
      "name": "python",
      "nbconvert_exporter": "python",
      "pygments_lexer": "ipython3",
      "version": "3.6.8"
    }
  },
  "cells": [
    {
      "cell_type": "markdown",
      "metadata": {
        "id": "view-in-github",
        "colab_type": "text"
      },
      "source": [
        "<a href=\"https://colab.research.google.com/github/kumagaimasahito/2019/blob/master/ExtremeClustering_QA/Greedy/greedy_BiDViT%2B.ipynb\" target=\"_parent\"><img src=\"https://colab.research.google.com/assets/colab-badge.svg\" alt=\"Open In Colab\"/></a>"
      ]
    },
    {
      "cell_type": "markdown",
      "metadata": {
        "colab_type": "text",
        "id": "obMWAOqHyBbA"
      },
      "source": [
        "# Big Data Visualization Tool by Greedy\n",
        "Implemenntation of BiDViT by Greedy.\n",
        "This is easier to use BiDViT by Greedy.   \n",
        "If you want to learn algorithm movement, I reccomend you execute greedy_BiDViT.ipynb before this ipynb."
      ]
    },
    {
      "cell_type": "markdown",
      "metadata": {
        "colab_type": "text",
        "id": "YSJWbWbaG4uD"
      },
      "source": [
        "## 準備\n",
        "- ライブラリのインストール\n",
        "- データの準備"
      ]
    },
    {
      "cell_type": "code",
      "metadata": {
        "colab_type": "code",
        "id": "-NgbiHjMDIGx",
        "colab": {}
      },
      "source": [
        "# ライブラリのインポート\n",
        "import numpy as np\n",
        "import pandas as pd\n",
        "from matplotlib import pyplot as plt\n",
        "import time\n",
        "from scipy.spatial import distance\n",
        "from sklearn.datasets import load_iris\n",
        "iris = load_iris()"
      ],
      "execution_count": 0,
      "outputs": []
    },
    {
      "cell_type": "code",
      "metadata": {
        "colab_type": "code",
        "id": "f35yMXt1Ku3g",
        "colab": {}
      },
      "source": [
        "# pd.DataFrame -> numpy array\n",
        "data = np.array(iris.data)"
      ],
      "execution_count": 0,
      "outputs": []
    },
    {
      "cell_type": "code",
      "metadata": {
        "colab_type": "code",
        "id": "BDuIRHCGf-_z",
        "colab": {}
      },
      "source": [
        "weight = [1] * len(data)"
      ],
      "execution_count": 0,
      "outputs": []
    },
    {
      "cell_type": "code",
      "metadata": {
        "colab_type": "code",
        "id": "KoFxdhX8QRdi",
        "colab": {}
      },
      "source": [
        "answer = iris.target"
      ],
      "execution_count": 0,
      "outputs": []
    },
    {
      "cell_type": "markdown",
      "metadata": {
        "colab_type": "text",
        "id": "_4UjDus8aIrz"
      },
      "source": [
        "## BiDViT Computation Time Measure Function"
      ]
    },
    {
      "cell_type": "code",
      "metadata": {
        "colab_type": "code",
        "id": "oRYGsviEUh3a",
        "colab": {}
      },
      "source": [
        "# Data Partitioning\n",
        "\n",
        "\"vinary median cut by variance\"\n",
        "def vinary_medcut(data):\n",
        "  var_data = np.var(data, axis=0)\n",
        "  med_data = np.median(data, axis=0)\n",
        "\n",
        "  chunk = [0] * len(data)\n",
        "  dimension = len(data[0])\n",
        "\n",
        "  flag = 0\n",
        "  label = 0\n",
        "  rep_d = 0\n",
        "\n",
        "  for i in range(len(data)):\n",
        "    if len(data)%2 == 1: # number of datapoints is odd.\n",
        "      for d in range(dimension):\n",
        "        if var_data[d] >= var_data[rep_d]: # variance of dimennsion >= variance of representive dimension\n",
        "          rep_d = d\n",
        "      if med_data[rep_d] >=  data[:,rep_d][i]: # if median of representive dimension >= every data, every chunk is determined below. \n",
        "        chunk[i] = label\n",
        "      elif med_data[rep_d] <  data[:,rep_d][i]: # if median of representive dimension < every data, every chunk is determined below.\n",
        "        chunk[i] = label+1\n",
        "\n",
        "    elif len(data)%2 == 0: # number of datapoints is even .\n",
        "      for d in range(dimension):\n",
        "        if var_data[d] >= var_data[rep_d]: # variance of dimennsion >= variance of representive dimension\n",
        "          rep_d = d\n",
        "      if med_data[rep_d] > data[:,rep_d][i]: # if median of representive dimension > every data, every chunk is determined below.\n",
        "        chunk[i] = label\n",
        "      elif med_data[rep_d] < data[:,rep_d][i]: # if median of representive dimension < every data, every chunk is determined below.\n",
        "        chunk[i] = label+1\n",
        "      elif med_data[rep_d] == data[:,rep_d][i]: # if median of representive dimension = a data the former and latter 's label are different.\n",
        "        if flag == 0: # the former's label is below.\n",
        "          chunk[i] = label\n",
        "          flag += 1\n",
        "        elif flag == 1: # the latter's label is below.\n",
        "          chunk[i] = label+1\n",
        "          flag == 0\n",
        "\n",
        "  return chunk\n",
        "\n",
        "\n",
        "\"main function of median cut based on variance\"\n",
        "def var_medcut(data,kappa):\n",
        "  chunk = vinary_medcut(data)\n",
        "  prev_label = 2\n",
        "  max_points = np.count_nonzero([i for i, x in enumerate(chunk) if x == 0], axis=0)\n",
        "\n",
        "  while (max_points > kappa):\n",
        "\n",
        "    # get the max data points of any chunks ,the max data points chunks label number\n",
        "    max_points = np.count_nonzero([i for i, x in enumerate(chunk) if x == 0], axis=0)\n",
        "    label_max_data = 0\n",
        "    for j in range(prev_label):\n",
        "      prev_points = np.count_nonzero([i for i, x in enumerate(chunk) if x == j], axis=0)\n",
        "      if prev_points >= max_points:\n",
        "        max_points = prev_points\n",
        "        label_max_data = j\n",
        "    if max_points <= kappa:\n",
        "      break\n",
        "    \n",
        "    # vinary median cut targeted to the max variance chunk\n",
        "    prev_data = np.delete(data, [i for i, x in enumerate(chunk) if not x == label_max_data], axis=0) # data of max variance chunk\n",
        "    prev_chunk = vinary_medcut(prev_data)\n",
        "\n",
        "    # update chunk number\n",
        "    prev_chunk = [label_max_data if i == 0 else prev_label for i in prev_chunk]\n",
        "    tmp = 0\n",
        "    for i in range(len(chunk)):\n",
        "      if chunk[i] == label_max_data:\n",
        "        chunk[i] = prev_chunk[tmp]\n",
        "        tmp += 1\n",
        "\n",
        "    prev_label += 1\n",
        "\n",
        "  return chunk\n",
        "\n",
        "\n",
        "\n",
        "# Chunk Coarsening\n",
        "\n",
        "\"solve the Neighborhood matrix of data chunks\"\n",
        "def N_solver_greedy(data_chunk, epsilon):\n",
        "  dist_matrix = distance.cdist(data_chunk, data_chunk, metric='euclidean')\n",
        "  N = np.zeros((len(data_chunk),len(data_chunk)))\n",
        "\n",
        "  for i in range(len(data_chunk)):\n",
        "    for j in range(len(data_chunk)):\n",
        "      if j == i:\n",
        "        continue\n",
        "      else:\n",
        "        if dist_matrix[i][j] < epsilon:\n",
        "          N[i][j] = 1\n",
        "        else:\n",
        "          N[i][j] = 0\n",
        "\n",
        "  return N\n",
        "\n",
        "\n",
        "\"solve the solutions of each chunks\"\n",
        "\n",
        "def coarsening_set_greedy(data_chunk, weight, epsilon):\n",
        "  coarsening_start = time.time()\n",
        "  solutions = [0] * len(data_chunk)\n",
        "  raw_num = [i for i in range(len(data_chunk))]\n",
        "\n",
        "  while (len(data_chunk) != 0):\n",
        "    deg = [0] * len(data_chunk)\n",
        "    N = N_solver_greedy(data_chunk, epsilon)\n",
        "\n",
        "    for i in range(len(deg)):\n",
        "      for j in range(len(N[i])):\n",
        "        if N[i][j] == 1:\n",
        "          deg[i] += weight[j]\n",
        "        deg[i] = deg[i] / weight[i]\n",
        "\n",
        "    degmin = np.argmin(deg)\n",
        "    solutions[raw_num[degmin]] = 1\n",
        "    data_chunk = np.delete(data_chunk, degmin, axis=0)\n",
        "    raw_num = np.delete(raw_num, degmin, axis=0)\n",
        "\n",
        "    data_chunk = np.delete(data_chunk, [i for i, x in enumerate(N[degmin]) if x == 1], axis=0)\n",
        "    raw_num = np.delete(raw_num, [i for i, x in enumerate(N[degmin]) if x == 1], axis=0)\n",
        "\n",
        "    coarsening_end = time.time()\n",
        "    coarsening_time = coarsening_end - coarsening_start\n",
        "\n",
        "  return solutions, coarsening_time\n",
        "\n",
        "\n",
        "\n",
        "# Chunk Collapsing\n",
        "\n",
        "\"Solve new weight\"\n",
        "def w_updater(data_chunk, weight_chunk, solutions):\n",
        "  S = np.delete(data_chunk, [i for i, x in enumerate(solutions) if x == 0], axis=0)\n",
        "  P = data_chunk\n",
        "  weight_cent = [0] * len(S)\n",
        "\n",
        "  dist_matrix = distance.cdist(S, P, metric='euclidean')\n",
        "  np.fill_diagonal(dist_matrix, np.inf)\n",
        "  nearest = np.argmin(dist_matrix, axis=0)\n",
        "  centroids = S\n",
        "\n",
        "  for j in range(len(S)):\n",
        "    for i in range(len(weight_chunk)):\n",
        "      if nearest[i] == j:\n",
        "        weight_cent[j] += weight_chunk[i]\n",
        "\n",
        "  return centroids, weight_cent, nearest\n",
        "\n",
        "\n",
        "\"All Chunk Collapsing\"\n",
        "def all_w_updater_greedy(data, chunk_label, weight, epsilon=0.4):\n",
        "  coarsening_time = 0\n",
        "  collapsing_time = 0\n",
        "  collapsing_start = time.time()\n",
        "\n",
        "  chunk_set = [0] * (max(chunk_label) + 1)\n",
        "  chunk_weight = [0] * (len(chunk_set))\n",
        "  solutions = [0] * (len(chunk_set))\n",
        "  centroids = [0] * (len(chunk_set))\n",
        "  weight_cent = [0] * (len(chunk_set))\n",
        "  nearest = [0] * (len(chunk_set))\n",
        "\n",
        "  for chunk_num in range(len(chunk_set)):\n",
        "    chunk_set = np.delete(data, [i for i, x in enumerate(chunk_label) if not x == chunk_num], axis=0)\n",
        "    chunk_weight = np.delete(weight, [i for i, x in enumerate(chunk_label) if not x == chunk_num], axis=0)\n",
        "    solutions[chunk_num], t1 = coarsening_set_greedy(chunk_set, chunk_weight, epsilon)\n",
        "    centroids[chunk_num], weight_cent[chunk_num], nearest[chunk_num] = w_updater(chunk_set, chunk_weight, solutions[chunk_num])\n",
        "    coarsening_time += t1\n",
        "  collapsing_end = time.time()\n",
        "  collapsing_time = collapsing_end - collapsing_start - coarsening_time\n",
        "\n",
        "  return solutions, centroids, weight_cent, nearest, coarsening_time, collapsing_time\n",
        "\n",
        "\n",
        "\n",
        "# Big Data Visualization Tool\n",
        "\n",
        "\"Measure computation time on BiDViT\"\n",
        "def time_BiDViT_greedy(data, weight, required_level=10, kappa=64, epsilon=0.4, ep_rate=2.0):\n",
        "  other_start = time.time()\n",
        "  raw_data_sum = len(data)\n",
        "  tree_list = []\n",
        "  data_list = []\n",
        "  weight_list = []\n",
        "  level = 0\n",
        "\n",
        "  partition_time = 0\n",
        "  coarsening_time = 0\n",
        "  collapsing_time = 0\n",
        "\n",
        "  while (level < required_level):\n",
        "    data_list.append(data)\n",
        "    weight_list.append(weight)\n",
        "\n",
        "    partition_start = time.time()\n",
        "    chunk = var_medcut(data,kappa)\n",
        "    partition_end = time.time()\n",
        "    partition_time += partition_end - partition_start\n",
        "\n",
        "    solutions, centroids, weight_cent, nearest, t1, t3 = all_w_updater_greedy(data, chunk, weight, epsilon)\n",
        "    coarsening_time += t1\n",
        "    collapsing_time += t3\n",
        "\n",
        "    next_data_sum = 0\n",
        "    for i in range(len(nearest)):\n",
        "      next_data_sum += len(centroids[i])\n",
        "    \n",
        "    next_data = [0] * next_data_sum\n",
        "    next_weight = [0] * next_data_sum\n",
        "\n",
        "    flag = 0\n",
        "    for i in range(len(nearest)):\n",
        "      for j in range(len(centroids[i])):\n",
        "        next_data[j+flag] = centroids[i][j]\n",
        "        next_weight[j+flag] = weight_cent[i][j]\n",
        "      flag += len(centroids[i])\n",
        "    \n",
        "    cluster = [0] * len(chunk)\n",
        "\n",
        "    for i in range(len(nearest)-1):\n",
        "      nearest[i+1] += max(nearest[i])+1\n",
        "\n",
        "    tmp = [0] * len(nearest)\n",
        "    for i in range(len(chunk)):\n",
        "      cluster[i] = nearest[chunk[i]][tmp[chunk[i]]]\n",
        "      tmp[chunk[i]] += 1\n",
        "\n",
        "    tree_list.append(cluster)\n",
        "    level += 1\n",
        "\n",
        "    if len(data) == len(next_data):\n",
        "      break\n",
        "    data = np.array(next_data)\n",
        "    weight = next_weight\n",
        "\n",
        "    epsilon = ep_rate * epsilon\n",
        "\n",
        "  for i in range(len(tree_list)-1, 0, -1):\n",
        "    for j in range(len(tree_list[i-1])):\n",
        "      tree_list[i-1][j] = tree_list[i][tree_list[i-1][j]]\n",
        "  represent = np.array(tree_list[0])\n",
        "  other_end = time.time()\n",
        "  other_time = other_end - other_start - partition_time - coarsening_time - collapsing_time\n",
        "\n",
        "  return represent, partition_time, coarsening_time, collapsing_time, other_time"
      ],
      "execution_count": 0,
      "outputs": []
    },
    {
      "cell_type": "code",
      "metadata": {
        "colab_type": "code",
        "id": "I663jHHz3gs1",
        "colab": {}
      },
      "source": [
        "# クラスタリングの精度を図るF値を計算する関数\n",
        "def evaluation(represent, answer, show=False):\n",
        "\n",
        "  prediction = np.full((len(represent),len(represent)),-1)\n",
        "  actual = np.full((len(answer),len(answer)),-1)\n",
        "\n",
        "  for i in range(len(represent)-1):\n",
        "    for j in range(i+1, len(represent)):\n",
        "      if represent[i] == represent[j]:\n",
        "        prediction[j][i] = 1\n",
        "      elif represent[i] != represent[j]:\n",
        "        prediction[j][i] = 0\n",
        "\n",
        "  for i in range(len(answer)-1):\n",
        "    for j in range(i+1, len(answer)):\n",
        "      if answer[i] == answer[j]:\n",
        "        actual[j][i] = 1\n",
        "      elif answer[i] != answer[j]:\n",
        "        actual[j][i] = 0\n",
        "\n",
        "  TP = 0\n",
        "  FP = 0\n",
        "  FN = 0\n",
        "  TN = 0\n",
        "\n",
        "  for i in range(len(answer)-1):\n",
        "    for j in range(i+1, len(answer)):\n",
        "      if prediction[j][i] == 1 and actual[j][i] == 1:\n",
        "        TP += 1\n",
        "      elif prediction[j][i] == 1 and actual[j][i] == 0:\n",
        "        FP += 1\n",
        "      elif prediction[j][i] == 0 and actual[j][i] == 1:\n",
        "        FN += 1\n",
        "      elif prediction[j][i] == 0 and actual[j][i] == 0:\n",
        "        TN += 1\n",
        "\n",
        "  accuracy = (TP+TN)/(TP+FP+FN+TN)\n",
        "  precision = TP/(TP+FP)\n",
        "  recall = TP/(TP+FN)\n",
        "  specificity = TN/(FP+TN)\n",
        "  F_measure = (2*recall*precision)/(recall+precision)\n",
        "\n",
        "  if show == True:\n",
        "    print('TP = ', TP)\n",
        "    print('FP = ', FP)\n",
        "    print('FN = ', FN)\n",
        "    print('TN = ', TN)\n",
        "    print('accuracy    = ', accuracy)\n",
        "    print('precision   = ', precision)\n",
        "    print('recall      = ', recall)\n",
        "    print('specificity = ', specificity)\n",
        "    print('F measure   = ', F_measure)\n",
        "\n",
        "  return F_measure"
      ],
      "execution_count": 0,
      "outputs": []
    },
    {
      "cell_type": "markdown",
      "metadata": {
        "colab_type": "text",
        "id": "ekJ-AGwaSCK0"
      },
      "source": [
        "## Evaluation"
      ]
    },
    {
      "cell_type": "markdown",
      "metadata": {
        "id": "DSY5djVAVBMx",
        "colab_type": "text"
      },
      "source": [
        "Environment\n",
        "- Google Colab"
      ]
    },
    {
      "cell_type": "code",
      "metadata": {
        "colab_type": "code",
        "id": "dkQZK80v4HF3",
        "outputId": "3adf3576-f629-4eca-8e19-e6f4ba8efb39",
        "colab": {
          "base_uri": "https://localhost:8080/",
          "height": 71
        }
      },
      "source": [
        "iteration = 10\n",
        "partition_time = 0\n",
        "coarsening_time = 0\n",
        "collapsing_time = 0\n",
        "other_time = 0\n",
        "F_measure_BiDViT = 0\n",
        "for n in range(iteration):\n",
        "  start_BiDViT = time.time()\n",
        "  represent, par, coa, col, oth = time_BiDViT_greedy(data, weight, required_level=10, kappa=30, epsilon=1.0, ep_rate=1.3)\n",
        "  end_BiDViT = time.time()\n",
        "  partition_time += par\n",
        "  coarsening_time += coa\n",
        "  collapsing_time += col\n",
        "  other_time += oth\n",
        "  F_measure_BiDViT += evaluation(represent, answer)\n",
        "partition_time = partition_time / iteration\n",
        "coarsening_time = coarsening_time / iteration\n",
        "collapsing_time = collapsing_time / iteration\n",
        "other_time = other_time / iteration\n",
        "time_all = partition_time + coarsening_time + collapsing_time\n",
        "BiDViT_time = end_BiDViT - start_BiDViT\n",
        "F_measure_BiDViT = F_measure_BiDViT / iteration"
      ],
      "execution_count": 0,
      "outputs": [
        {
          "output_type": "stream",
          "text": [
            "/usr/local/lib/python3.6/dist-packages/ipykernel_launcher.py:122: DeprecationWarning: in the future out of bounds indices will raise an error instead of being ignored by `numpy.delete`.\n",
            "/usr/local/lib/python3.6/dist-packages/ipykernel_launcher.py:123: DeprecationWarning: in the future out of bounds indices will raise an error instead of being ignored by `numpy.delete`.\n"
          ],
          "name": "stderr"
        }
      ]
    },
    {
      "cell_type": "code",
      "metadata": {
        "colab_type": "code",
        "id": "eGlJcm-U2OZu",
        "outputId": "8a8257b7-9e67-4324-e98b-9f20b71cf85d",
        "colab": {
          "base_uri": "https://localhost:8080/",
          "height": 136
        }
      },
      "source": [
        "print('Data Partitioning  : ', partition_time, '   ', partition_time/time_all*100, '%')\n",
        "print('Chunk Coarsening1  : ', coarsening_time, '   ', coarsening_time/time_all*100, '%')\n",
        "print('Chunk Collapsing   : ', collapsing_time, '   ', collapsing_time/time_all*100, '%')\n",
        "print('The Other          : ', other_time, '   ', other_time/time_all*100, '%')\n",
        "print('Total time         : ', time_all)\n",
        "print('Real time          : ', BiDViT_time)\n",
        "print('F measure          : ', F_measure_BiDViT)"
      ],
      "execution_count": 0,
      "outputs": [
        {
          "output_type": "stream",
          "text": [
            "Data Partitioning  :  0.004047989845275879     16.261030799082864 %\n",
            "Chunk Coarsening1  :  0.01810007095336914     72.70912786053736 %\n",
            "Chunk Collapsing   :  0.0027457475662231445     11.029841340379765 %\n",
            "The Other          :  0.000276947021484375     1.112513671773988 %\n",
            "Total time         :  0.024893808364868163\n",
            "Real time          :  0.024720430374145508\n",
            "F measure          :  0.6416867775943097\n"
          ],
          "name": "stdout"
        }
      ]
    },
    {
      "cell_type": "code",
      "metadata": {
        "colab_type": "code",
        "id": "tkfU473cCsvV",
        "outputId": "8e065c56-8443-44fe-c843-b17462bda57c",
        "colab": {
          "base_uri": "https://localhost:8080/",
          "height": 377
        }
      },
      "source": [
        "labels = ['Data Partitioning', 'Chunk Coarsening', 'Chunk Collapsing', 'The Other', 'Total time']\n",
        "time_list = [partition_time, coarsening_time, collapsing_time, other_time, time_all]\n",
        "\n",
        "x = np.arange(len(labels))\n",
        "width = 0.35\n",
        "\n",
        "fig, axes = plt.subplots(figsize=(4,4))\n",
        "\n",
        "rect = axes.bar(x, time_list, width)\n",
        "axes.set_xticks(x)\n",
        "axes.set_xticklabels(labels, rotation='vertical')\n",
        "\n",
        "axes.set_xlabel('Parts')\n",
        "axes.set_ylabel('Computation Time')\n",
        "axes.set_title('Computation time by Parts')\n",
        "\n",
        "plt.show()"
      ],
      "execution_count": 0,
      "outputs": [
        {
          "output_type": "display_data",
          "data": {
            "image/png": "[encoded data removed]",
            "text/plain": [
              "<Figure size 288x288 with 1 Axes>"
            ]
          },
          "metadata": {
            "tags": []
          }
        }
      ]
    }
  ]
}