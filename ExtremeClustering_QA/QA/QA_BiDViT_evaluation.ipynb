{
  "nbformat": 4,
  "nbformat_minor": 0,
  "metadata": {
    "colab": {
      "name": "QA_BiDViT_evaluation.ipynb",
      "provenance": [],
      "collapsed_sections": [],
      "include_colab_link": true
    },
    "kernelspec": {
      "display_name": "Python 3",
      "language": "python",
      "name": "python3"
    },
    "language_info": {
      "codemirror_mode": {
        "name": "ipython",
        "version": 3
      },
      "file_extension": ".py",
      "mimetype": "text/x-python",
      "name": "python",
      "nbconvert_exporter": "python",
      "pygments_lexer": "ipython3",
      "version": "3.6.8"
    }
  },
  "cells": [
    {
      "cell_type": "markdown",
      "metadata": {
        "id": "view-in-github",
        "colab_type": "text"
      },
      "source": [
        "<a href=\"https://colab.research.google.com/github/kumagaimasahito/2019/blob/master/ExtremeClustering_QA/QA/QA_BiDViT_evaluation.ipynb\" target=\"_parent\"><img src=\"https://colab.research.google.com/assets/colab-badge.svg\" alt=\"Open In Colab\"/></a>"
      ]
    },
    {
      "cell_type": "markdown",
      "metadata": {
        "colab_type": "text",
        "id": "obMWAOqHyBbA"
      },
      "source": [
        "# Big Data Visualization Tool by QA\n",
        "Evaluation of BiDViT based on approach to QA.  "
      ]
    },
    {
      "cell_type": "markdown",
      "metadata": {
        "colab_type": "text",
        "id": "YSJWbWbaG4uD"
      },
      "source": [
        "## 準備\n",
        "- ライブラリのインストール\n",
        "- データの準備"
      ]
    },
    {
      "cell_type": "code",
      "metadata": {
        "colab_type": "code",
        "id": "ekSxaM3v7LoV",
        "outputId": "3074e412-bc49-44af-ac16-fac3457bf904",
        "colab": {
          "base_uri": "https://localhost:8080/",
          "height": 1000
        }
      },
      "source": [
        "!pip install dwave-ocean-sdk"
      ],
      "execution_count": 0,
      "outputs": [
        {
          "output_type": "stream",
          "text": [
            "Collecting dwave-ocean-sdk\n",
            "  Downloading https://files.pythonhosted.org/packages/32/a8/c2bab4fc872cad9c40ecdbbefe53ad2e61c4b43709cd7ae1f481753622b4/dwave_ocean_sdk-1.5.0-py2.py3-none-any.whl\n",
            "Collecting dwave-hybrid<0.5.0,>=0.4.0\n",
            "\u001b[?25l  Downloading https://files.pythonhosted.org/packages/cc/0b/35f46bac3d06a1e703189e10d009e931754c378968cdd5c19fdf6be11e6b/dwave_hybrid-0.4.1-py2.py3-none-any.whl (90kB)\n",
            "\u001b[K     |████████████████████████████████| 92kB 2.6MB/s \n",
            "\u001b[?25hCollecting dwave-qbsolv<0.3.0,>=0.2.7\n",
            "\u001b[?25l  Downloading https://files.pythonhosted.org/packages/cf/b5/99a322558753d0eb2cb2998e1d8f661f6b742a92c92dcc61f18f683596f5/dwave_qbsolv-0.2.10-cp36-cp36m-manylinux1_x86_64.whl (204kB)\n",
            "\u001b[K     |████████████████████████████████| 204kB 8.3MB/s \n",
            "\u001b[?25hCollecting numpy<1.16.0\n",
            "\u001b[?25l  Downloading https://files.pythonhosted.org/packages/ff/7f/9d804d2348471c67a7d8b5f84f9bc59fd1cefa148986f2b74552f8573555/numpy-1.15.4-cp36-cp36m-manylinux1_x86_64.whl (13.9MB)\n",
            "\u001b[K     |████████████████████████████████| 13.9MB 165kB/s \n",
            "\u001b[?25hCollecting dwave-networkx<0.9.0,>=0.8.0\n",
            "\u001b[?25l  Downloading https://files.pythonhosted.org/packages/91/f7/d320189c31e31a340fdcd5f70a921ca195cedab71164124e39f0451360ac/dwave_networkx-0.8.2-py2.py3-none-any.whl (78kB)\n",
            "\u001b[K     |████████████████████████████████| 81kB 7.7MB/s \n",
            "\u001b[?25hCollecting pyqubo>=0.3.0\n",
            "  Downloading https://files.pythonhosted.org/packages/28/57/ba41de3b13ba23e981463aa1daa2ebe6bd9dcddb15571e4c5905463326c7/pyqubo-0.4.0.tar.gz\n",
            "Collecting dwave-tabu<0.3.0,>=0.2.0\n",
            "\u001b[?25l  Downloading https://files.pythonhosted.org/packages/fc/0f/dd257f5337a219dd68dc949396934d20d9ee355c32953cecee783e4b0bf9/dwave_tabu-0.2.1-cp36-cp36m-manylinux1_x86_64.whl (784kB)\n",
            "\u001b[K     |████████████████████████████████| 788kB 36.5MB/s \n",
            "\u001b[?25hCollecting dimod<0.9.0,>=0.8.0\n",
            "\u001b[?25l  Downloading https://files.pythonhosted.org/packages/5a/91/bfd4625abd13822718ec810ff5895159d9c05c7881deed4a85ecba73170c/dimod-0.8.18-cp36-cp36m-manylinux1_x86_64.whl (838kB)\n",
            "\u001b[K     |████████████████████████████████| 839kB 46.8MB/s \n",
            "\u001b[?25hCollecting dwave-neal<0.6.0,>=0.5.0\n",
            "\u001b[?25l  Downloading https://files.pythonhosted.org/packages/b9/1f/d29a8bc6a9dfe768bdab0b886d6fc8f70e913846e34c71f43efd28095a1f/dwave_neal-0.5.1-cp36-cp36m-manylinux1_x86_64.whl (390kB)\n",
            "\u001b[K     |████████████████████████████████| 399kB 49.5MB/s \n",
            "\u001b[?25hCollecting dwavebinarycsp[mip]<0.1.0,>=0.0.9; (platform_machine == \"x86_64\" or platform_machine == \"amd64\" or platform_machine == \"AMD64\") and python_version != \"3.4\"\n",
            "  Downloading https://files.pythonhosted.org/packages/54/cb/3c6ed88ca888abfe62bd5f064b992831c65294904589e6ac357ea78ac492/dwavebinarycsp-0.0.12-py2.py3-none-any.whl\n",
            "Collecting dwave-system<0.9.0,>=0.8.0\n",
            "\u001b[?25l  Downloading https://files.pythonhosted.org/packages/62/fa/94508afe15fc3e0baf35a679e3f38b383e9a65212c73710bb8bb58961282/dwave_system-0.8.0-py2.py3-none-any.whl (76kB)\n",
            "\u001b[K     |████████████████████████████████| 81kB 7.2MB/s \n",
            "\u001b[?25hRequirement already satisfied: six>=1.10 in /usr/local/lib/python3.6/dist-packages (from dwave-hybrid<0.5.0,>=0.4.0->dwave-ocean-sdk) (1.12.0)\n",
            "Requirement already satisfied: networkx in /usr/local/lib/python3.6/dist-packages (from dwave-hybrid<0.5.0,>=0.4.0->dwave-ocean-sdk) (2.4)\n",
            "Collecting minorminer>=0.1.7\n",
            "\u001b[?25l  Downloading https://files.pythonhosted.org/packages/ea/4b/339ce1e98a45cf99be04e83771742f5eb5ec7b50ab28a4e10a40ec0a4b71/minorminer-0.1.9-cp36-cp36m-manylinux1_x86_64.whl (2.3MB)\n",
            "\u001b[K     |████████████████████████████████| 2.3MB 43.5MB/s \n",
            "\u001b[?25hCollecting plucky>=0.4.3\n",
            "  Downloading https://files.pythonhosted.org/packages/d8/70/7b43e7280284bafecb345f4edb3eea7042cf0d089c5d112920eda650fda5/plucky-0.4.3-py2.py3-none-any.whl\n",
            "Requirement already satisfied: click>5 in /usr/local/lib/python3.6/dist-packages (from dwave-hybrid<0.5.0,>=0.4.0->dwave-ocean-sdk) (7.0)\n",
            "Requirement already satisfied: decorator<5.0.0,>=4.1.0 in /usr/local/lib/python3.6/dist-packages (from dwave-networkx<0.9.0,>=0.8.0->dwave-ocean-sdk) (4.4.1)\n",
            "Collecting penaltymodel-cache<0.5.0,>=0.4.0\n",
            "  Downloading https://files.pythonhosted.org/packages/38/36/1580a020e09aff581297efd6ea58c882202ac4ef574613ee5a6709b1f2b5/penaltymodel_cache-0.4.0-py2.py3-none-any.whl\n",
            "Collecting penaltymodel<0.17.0,>=0.16.0\n",
            "  Downloading https://files.pythonhosted.org/packages/ec/3c/a61423b81bb178198d6670aa0d4b8f69c5d39379f8b24def4ad5595656cd/penaltymodel-0.16.2-py2.py3-none-any.whl\n",
            "Collecting penaltymodel-lp<0.2.0,>=0.1.0\n",
            "  Downloading https://files.pythonhosted.org/packages/f6/43/6308cb23364733689c6c25460f899e8c123c589f919eb707960abc1d8110/penaltymodel_lp-0.1.0-py3-none-any.whl\n",
            "Collecting penaltymodel-mip<0.3.0,>=0.2.0; extra == \"mip\"\n",
            "  Downloading https://files.pythonhosted.org/packages/08/ae/dcb44d5167d02addc6eef020c23e584b81540867524073d35952714192ed/penaltymodel_mip-0.2.1-py2.py3-none-any.whl\n",
            "Collecting dwave-cloud-client<0.7.0,>=0.6.0\n",
            "\u001b[?25l  Downloading https://files.pythonhosted.org/packages/5b/c6/54fe959dd561684f56902921af4e44c4e138c23155f2fa35f80cc6adf50f/dwave_cloud_client-0.6.2-py2.py3-none-any.whl (77kB)\n",
            "\u001b[K     |████████████████████████████████| 81kB 4.5MB/s \n",
            "\u001b[?25hCollecting homebase<2.0.0,>=1.0.0\n",
            "  Downloading https://files.pythonhosted.org/packages/50/ad/e0080c35bd177682d5118a95bc2e7c1ac0541394b4ffce5e9554b6a077f9/homebase-1.0.1-py2.py3-none-any.whl\n",
            "Requirement already satisfied: scipy<2.0.0,>=0.15.0 in /usr/local/lib/python3.6/dist-packages (from penaltymodel-lp<0.2.0,>=0.1.0->dwavebinarycsp[mip]<0.1.0,>=0.0.9; (platform_machine == \"x86_64\" or platform_machine == \"amd64\" or platform_machine == \"AMD64\") and python_version != \"3.4\"->dwave-ocean-sdk) (1.3.2)\n",
            "Collecting ortools<7.0.0,>=6.6.4659\n",
            "\u001b[?25l  Downloading https://files.pythonhosted.org/packages/64/13/8c8d0fe23da0767ec0f8d00ad14619a20bc6d55ca49a3bd13700e629a1be/ortools-6.10.6025-cp36-cp36m-manylinux1_x86_64.whl (23.7MB)\n",
            "\u001b[K     |████████████████████████████████| 23.7MB 99kB/s \n",
            "\u001b[?25hCollecting python-dateutil>=2.7\n",
            "\u001b[?25l  Downloading https://files.pythonhosted.org/packages/d4/70/d60450c3dd48ef87586924207ae8907090de0b306af2bce5d134d78615cb/python_dateutil-2.8.1-py2.py3-none-any.whl (227kB)\n",
            "\u001b[K     |████████████████████████████████| 235kB 43.4MB/s \n",
            "\u001b[?25hRequirement already satisfied: requests[socks]>=2.18 in /usr/local/lib/python3.6/dist-packages (from dwave-cloud-client<0.7.0,>=0.6.0->dwave-system<0.9.0,>=0.8.0->dwave-ocean-sdk) (2.21.0)\n",
            "Requirement already satisfied: protobuf>=3.6.1 in /usr/local/lib/python3.6/dist-packages (from ortools<7.0.0,>=6.6.4659->penaltymodel-mip<0.3.0,>=0.2.0; extra == \"mip\"->dwavebinarycsp[mip]<0.1.0,>=0.0.9; (platform_machine == \"x86_64\" or platform_machine == \"amd64\" or platform_machine == \"AMD64\") and python_version != \"3.4\"->dwave-ocean-sdk) (3.10.0)\n",
            "Requirement already satisfied: idna<2.9,>=2.5 in /usr/local/lib/python3.6/dist-packages (from requests[socks]>=2.18->dwave-cloud-client<0.7.0,>=0.6.0->dwave-system<0.9.0,>=0.8.0->dwave-ocean-sdk) (2.8)\n",
            "Requirement already satisfied: certifi>=2017.4.17 in /usr/local/lib/python3.6/dist-packages (from requests[socks]>=2.18->dwave-cloud-client<0.7.0,>=0.6.0->dwave-system<0.9.0,>=0.8.0->dwave-ocean-sdk) (2019.9.11)\n",
            "Requirement already satisfied: urllib3<1.25,>=1.21.1 in /usr/local/lib/python3.6/dist-packages (from requests[socks]>=2.18->dwave-cloud-client<0.7.0,>=0.6.0->dwave-system<0.9.0,>=0.8.0->dwave-ocean-sdk) (1.24.3)\n",
            "Requirement already satisfied: chardet<3.1.0,>=3.0.2 in /usr/local/lib/python3.6/dist-packages (from requests[socks]>=2.18->dwave-cloud-client<0.7.0,>=0.6.0->dwave-system<0.9.0,>=0.8.0->dwave-ocean-sdk) (3.0.4)\n",
            "Requirement already satisfied: PySocks!=1.5.7,>=1.5.6; extra == \"socks\" in /usr/local/lib/python3.6/dist-packages (from requests[socks]>=2.18->dwave-cloud-client<0.7.0,>=0.6.0->dwave-system<0.9.0,>=0.8.0->dwave-ocean-sdk) (1.7.1)\n",
            "Requirement already satisfied: setuptools in /usr/local/lib/python3.6/dist-packages (from protobuf>=3.6.1->ortools<7.0.0,>=6.6.4659->penaltymodel-mip<0.3.0,>=0.2.0; extra == \"mip\"->dwavebinarycsp[mip]<0.1.0,>=0.0.9; (platform_machine == \"x86_64\" or platform_machine == \"amd64\" or platform_machine == \"AMD64\") and python_version != \"3.4\"->dwave-ocean-sdk) (41.6.0)\n",
            "Building wheels for collected packages: pyqubo\n",
            "  Building wheel for pyqubo (setup.py) ... \u001b[?25l\u001b[?25hdone\n",
            "  Created wheel for pyqubo: filename=pyqubo-0.4.0-cp36-none-any.whl size=40711 sha256=e9c0ac0f00f2753b9ffec065dfe667c9b695648f0352f8905d63ee9b9ea3a528\n",
            "  Stored in directory: /root/.cache/pip/wheels/77/b7/47/b989889699f788f4fecdc534bfddbb16df9a9a51f4e431b04d\n",
            "Successfully built pyqubo\n",
            "\u001b[31mERROR: tensorflow 1.15.0 has requirement numpy<2.0,>=1.16.0, but you'll have numpy 1.15.4 which is incompatible.\u001b[0m\n",
            "\u001b[31mERROR: datascience 0.10.6 has requirement folium==0.2.1, but you'll have folium 0.8.3 which is incompatible.\u001b[0m\n",
            "\u001b[31mERROR: botocore 1.13.18 has requirement python-dateutil<2.8.1,>=2.1; python_version >= \"2.7\", but you'll have python-dateutil 2.8.1 which is incompatible.\u001b[0m\n",
            "\u001b[31mERROR: albumentations 0.1.12 has requirement imgaug<0.2.7,>=0.2.5, but you'll have imgaug 0.2.9 which is incompatible.\u001b[0m\n",
            "Installing collected packages: python-dateutil, plucky, homebase, dwave-cloud-client, numpy, dimod, dwave-networkx, minorminer, dwave-system, dwave-tabu, dwave-neal, dwave-hybrid, dwave-qbsolv, pyqubo, penaltymodel, penaltymodel-cache, penaltymodel-lp, ortools, penaltymodel-mip, dwavebinarycsp, dwave-ocean-sdk\n",
            "  Found existing installation: python-dateutil 2.6.1\n",
            "    Uninstalling python-dateutil-2.6.1:\n",
            "      Successfully uninstalled python-dateutil-2.6.1\n",
            "  Found existing installation: numpy 1.17.4\n",
            "    Uninstalling numpy-1.17.4:\n",
            "      Successfully uninstalled numpy-1.17.4\n",
            "Successfully installed dimod-0.8.18 dwave-cloud-client-0.6.2 dwave-hybrid-0.4.1 dwave-neal-0.5.1 dwave-networkx-0.8.2 dwave-ocean-sdk-1.5.0 dwave-qbsolv-0.2.10 dwave-system-0.8.0 dwave-tabu-0.2.1 dwavebinarycsp-0.0.12 homebase-1.0.1 minorminer-0.1.9 numpy-1.15.4 ortools-6.10.6025 penaltymodel-0.16.2 penaltymodel-cache-0.4.0 penaltymodel-lp-0.1.0 penaltymodel-mip-0.2.1 plucky-0.4.3 pyqubo-0.4.0 python-dateutil-2.8.1\n"
          ],
          "name": "stdout"
        },
        {
          "output_type": "display_data",
          "data": {
            "application/vnd.colab-display-data+json": {
              "pip_warning": {
                "packages": [
                  "dateutil",
                  "numpy"
                ]
              }
            }
          },
          "metadata": {
            "tags": []
          }
        }
      ]
    },
    {
      "cell_type": "code",
      "metadata": {
        "colab_type": "code",
        "id": "-NgbiHjMDIGx",
        "colab": {}
      },
      "source": [
        "# ライブラリのインポート\n",
        "import numpy as np\n",
        "import networkx as nx\n",
        "import dwave_networkx as dnx\n",
        "from dwave.system.samplers import DWaveSampler\n",
        "from dwave.system.composites import EmbeddingComposite\n",
        "import pandas as pd\n",
        "from matplotlib import pyplot as plt\n",
        "import time\n",
        "from scipy.spatial import distance\n",
        "from sklearn.datasets import load_iris\n",
        "iris = load_iris()"
      ],
      "execution_count": 0,
      "outputs": []
    },
    {
      "cell_type": "code",
      "metadata": {
        "colab_type": "code",
        "id": "f35yMXt1Ku3g",
        "colab": {}
      },
      "source": [
        "# pd.DataFrame -> numpy array\n",
        "data = np.array(iris.data)"
      ],
      "execution_count": 0,
      "outputs": []
    },
    {
      "cell_type": "code",
      "metadata": {
        "colab_type": "code",
        "id": "BDuIRHCGf-_z",
        "colab": {}
      },
      "source": [
        "weight = [1] * len(data)"
      ],
      "execution_count": 0,
      "outputs": []
    },
    {
      "cell_type": "code",
      "metadata": {
        "colab_type": "code",
        "id": "KoFxdhX8QRdi",
        "colab": {}
      },
      "source": [
        "answer = iris.target"
      ],
      "execution_count": 0,
      "outputs": []
    },
    {
      "cell_type": "markdown",
      "metadata": {
        "colab_type": "text",
        "id": "_4UjDus8aIrz"
      },
      "source": [
        "## BiDViT Computation Time Measure Function"
      ]
    },
    {
      "cell_type": "code",
      "metadata": {
        "id": "saYjxg7vk8yM",
        "colab_type": "code",
        "colab": {}
      },
      "source": [
        "# Data Partitioning\n",
        "\n",
        "\"vinary median cut by variance\"\n",
        "def vinary_medcut(data):\n",
        "  var_data = np.var(data, axis=0)\n",
        "  med_data = np.median(data, axis=0)\n",
        "\n",
        "  chunk = [0] * len(data)\n",
        "  dimension = len(data[0])\n",
        "\n",
        "  flag = 0\n",
        "  label = 0\n",
        "  rep_d = 0\n",
        "\n",
        "  for i in range(len(data)):\n",
        "    if len(data)%2 == 1: # number of datapoints is odd.\n",
        "      for d in range(dimension):\n",
        "        if var_data[d] >= var_data[rep_d]: # variance of dimennsion >= variance of representive dimension\n",
        "          rep_d = d\n",
        "      if med_data[rep_d] >=  data[:,rep_d][i]: # if median of representive dimension >= every data, every chunk is determined below. \n",
        "        chunk[i] = label\n",
        "      elif med_data[rep_d] <  data[:,rep_d][i]: # if median of representive dimension < every data, every chunk is determined below.\n",
        "        chunk[i] = label+1\n",
        "\n",
        "    elif len(data)%2 == 0: # number of datapoints is even .\n",
        "      for d in range(dimension):\n",
        "        if var_data[d] >= var_data[rep_d]: # variance of dimennsion >= variance of representive dimension\n",
        "          rep_d = d\n",
        "      if med_data[rep_d] > data[:,rep_d][i]: # if median of representive dimension > every data, every chunk is determined below.\n",
        "        chunk[i] = label\n",
        "      elif med_data[rep_d] < data[:,rep_d][i]: # if median of representive dimension < every data, every chunk is determined below.\n",
        "        chunk[i] = label+1\n",
        "      elif med_data[rep_d] == data[:,rep_d][i]: # if median of representive dimension = a data the former and latter 's label are different.\n",
        "        if flag == 0: # the former's label is below.\n",
        "          chunk[i] = label\n",
        "          flag += 1\n",
        "        elif flag == 1: # the latter's label is below.\n",
        "          chunk[i] = label+1\n",
        "          flag == 0\n",
        "\n",
        "  return chunk\n",
        "\n",
        "\n",
        "\"main function of median cut based on variance\"\n",
        "def var_medcut(data,kappa):\n",
        "  chunk = vinary_medcut(data)\n",
        "  prev_label = 2\n",
        "  max_points = np.count_nonzero([i for i, x in enumerate(chunk) if x == 0], axis=0)\n",
        "\n",
        "  while (max_points > kappa):\n",
        "\n",
        "    # get the max data points of any chunks ,the max data points chunks label number\n",
        "    max_points = np.count_nonzero([i for i, x in enumerate(chunk) if x == 0], axis=0)\n",
        "    label_max_data = 0\n",
        "    for j in range(prev_label):\n",
        "      prev_points = np.count_nonzero([i for i, x in enumerate(chunk) if x == j], axis=0)\n",
        "      if prev_points >= max_points:\n",
        "        max_points = prev_points\n",
        "        label_max_data = j\n",
        "    if max_points <= kappa:\n",
        "      break\n",
        "    \n",
        "    # vinary median cut targeted to the max variance chunk\n",
        "    prev_data = np.delete(data, [i for i, x in enumerate(chunk) if not x == label_max_data], axis=0) # data of max variance chunk\n",
        "    prev_chunk = vinary_medcut(prev_data)\n",
        "\n",
        "    # update chunk number\n",
        "    prev_chunk = [label_max_data if i == 0 else prev_label for i in prev_chunk]\n",
        "    tmp = 0\n",
        "    for i in range(len(chunk)):\n",
        "      if chunk[i] == label_max_data:\n",
        "        chunk[i] = prev_chunk[tmp]\n",
        "        tmp += 1\n",
        "\n",
        "    prev_label += 1\n",
        "\n",
        "  return chunk\n",
        "\n",
        "\n",
        "\n",
        "# Chunk Coarsening\n",
        "\n",
        "\"solve the Neighborhood matrix of data chunks\"\n",
        "def N_solver(data_chunk, epsilon):\n",
        "  dist_matrix = distance.cdist(data_chunk, data_chunk, metric='euclidean')\n",
        "  N = np.identity(len(data_chunk))\n",
        "\n",
        "  for i in range(len(data_chunk)):\n",
        "    for j in range(len(data_chunk)):\n",
        "      if j == i:\n",
        "        continue\n",
        "      elif i < j:\n",
        "        if dist_matrix[i][j] < epsilon:\n",
        "          N[i][j] = 1\n",
        "        else:\n",
        "          N[i][j] = 0\n",
        "\n",
        "  return N\n",
        "\n",
        "\n",
        "\"determin collection coefficient : rev\"\n",
        "def rev_solver(weight, rev_rate=1.1):\n",
        "  rev = np.zeros((len(weight), len(weight)))\n",
        "  for i in range(len(weight)):\n",
        "    for j in range(len(weight)):\n",
        "      if i == j:\n",
        "        continue\n",
        "      elif i < j:\n",
        "        rev[i][j] = max(weight[i],weight[j]) * rev_rate\n",
        "  \n",
        "  return rev\n",
        "\n",
        "\n",
        "\"MWIS --> QUBO\"\n",
        "def MtoQ(data_chunk, weight, epsilon, rev_rate=1.1):\n",
        "  coarsening1_start = time.time()\n",
        "  N = N_solver(data_chunk, epsilon)\n",
        "  rev = rev_solver(weight, rev_rate)\n",
        "  Q = {}\n",
        "  for i in range(len(weight)):\n",
        "    Q[(i,i)] = 0\n",
        "\n",
        "  for i in range(len(data_chunk)):\n",
        "    for j in range(len(data_chunk)):\n",
        "      if i == j:\n",
        "        Q[(i,j)] = -1 * weight[i]\n",
        "      elif N[i][j] == 1 and i < j:\n",
        "        Q[(i,j)] = rev[i][j]\n",
        "  coarsening1_end = time.time()\n",
        "  coarsening1_time = coarsening1_end - coarsening1_start\n",
        "  return Q, coarsening1_time\n",
        "\n",
        "\n",
        "\"Only rewrite this function to change the QUBO solver\"\n",
        "def qubo_solver_QA(qubo):\n",
        "    sampler = EmbeddingComposite(DWaveSampler(endpoint='https://cloud.dwavesys.com/sapi', token=\"DEV-7e439a945f84ac3496a7ed481d73c3ed6ac728df\", solver='DW_2000Q_2_1'))\n",
        "    response = sampler.sample_qubo(qubo, num_reads=1)\n",
        "    solutions = response.record['sample'][np.argmin(response.record['energy'])]\n",
        "    coarsening2_time = response.info['timing']['qpu_access_time'] * (10 ** (-6))\n",
        "    return solutions, coarsening2_time\n",
        "\n",
        "\n",
        "\"The complete set for the chunk coarsening part\"\n",
        "def coarsening_set_QA(data_chunk, weight, epsilon, rev_rate=1.1):\n",
        "    qubo, coarsening1_time = MtoQ(data_chunk, weight, epsilon, rev_rate)\n",
        "    solutions, coarsening2_time = qubo_solver_QA(qubo)\n",
        "    return solutions, coarsening1_time, coarsening2_time\n",
        "\n",
        "\n",
        "\n",
        "# Chunk Collapsing\n",
        "\n",
        "\"Solve new weight\"\n",
        "def w_updater_QA(data_chunk, weight_chunk, solutions):\n",
        "  S = np.delete(data_chunk, [i for i, x in enumerate(solutions) if x == 0], axis=0)\n",
        "  P = data_chunk\n",
        "  weight_cent = [0] * len(S)\n",
        "\n",
        "  dist_matrix = distance.cdist(S, P, metric='euclidean')\n",
        "  np.fill_diagonal(dist_matrix, np.inf)\n",
        "  nearest = np.argmin(dist_matrix, axis=0)\n",
        "  centroids = S\n",
        "\n",
        "  for j in range(len(S)):\n",
        "    for i in range(len(weight_chunk)):\n",
        "      if nearest[i] == j:\n",
        "        weight_cent[j] += weight_chunk[i]\n",
        "\n",
        "  flag = 0\n",
        "  for j in [i for i, x in enumerate(solutions) if x == 1]:\n",
        "    weight_cent[flag] += weight_chunk[j]\n",
        "    flag += 1\n",
        "\n",
        "  return centroids, weight_cent, nearest\n",
        "\n",
        "\n",
        "\"All Chunk Collapsing\"\n",
        "def all_w_updater_QA(data, chunk_label, weight, epsilon=0.4, rev_rate=1.1):\n",
        "  coarsening1_time = 0\n",
        "  coarsening2_time = 0\n",
        "  collapsing_time = 0\n",
        "  collapsing_start = time.time()\n",
        "  \n",
        "  chunk_set = [0] * (max(chunk_label) + 1)\n",
        "  chunk_weight = [0] * (len(chunk_set))\n",
        "  solutions = [0] * (len(chunk_set))\n",
        "  centroids = [0] * (len(chunk_set))\n",
        "  weight_cent = [0] * (len(chunk_set))\n",
        "  nearest = [0] * (len(chunk_set))\n",
        "\n",
        "  for chunk_num in range(len(chunk_set)):\n",
        "    chunk_set = np.delete(data, [i for i, x in enumerate(chunk_label) if not x == chunk_num], axis=0)\n",
        "    chunk_weight = np.delete(weight, [i for i, x in enumerate(chunk_label) if not x == chunk_num], axis=0)\n",
        "    solutions[chunk_num], t1, t2 = coarsening_set_QA(chunk_set, chunk_weight, epsilon, rev_rate)\n",
        "    centroids[chunk_num], weight_cent[chunk_num], nearest[chunk_num] = w_updater_QA(chunk_set, chunk_weight, solutions[chunk_num])\n",
        "    coarsening1_time += t1\n",
        "    coarsening2_time += t2\n",
        "  collapsing_end = time.time()\n",
        "  collapsing_time = collapsing_end - collapsing_start - coarsening1_time - coarsening2_time\n",
        "\n",
        "  return solutions, centroids, weight_cent, nearest, coarsening1_time, coarsening2_time, collapsing_time\n",
        "\n",
        "\n",
        "\n",
        "# Big Data Visualization Tool\n",
        "\n",
        "\"Measure computation time on BiDViT\"\n",
        "def time_BiDViT_QA(data, weight, required_level=10, kappa=64, epsilon=0.4, ep_rate=2.0, rev_rate=1.1, esc=False):\n",
        "  raw_data_sum = len(data)\n",
        "  tree_list = []\n",
        "  data_list = []\n",
        "  weight_list = []\n",
        "  level = 0\n",
        "\n",
        "  partition_time = 0\n",
        "  coarsening1_time = 0\n",
        "  coarsening2_time = 0\n",
        "  collapsing_time = 0\n",
        "  partition_time_list = []\n",
        "  coarsening1_time_list = []\n",
        "  coarsening2_time_list = []\n",
        "  collapsing_time_list = []\n",
        "\n",
        "  while (level < required_level):\n",
        "    data_list.append(data)\n",
        "    weight_list.append(weight)\n",
        "\n",
        "    partition_start = time.time()\n",
        "    chunk= var_medcut(data,kappa)\n",
        "    partition_end = time.time()\n",
        "    partition_time += partition_end - partition_start\n",
        "\n",
        "    solutions, centroids, weight_cent, nearest, t1, t2, t3 = all_w_updater_QA(data, chunk, weight, epsilon, rev_rate)\n",
        "    coarsening1_time += t1\n",
        "    coarsening2_time += t2\n",
        "    collapsing_time += t3\n",
        "\n",
        "    next_data_sum = 0\n",
        "    for i in range(len(nearest)):\n",
        "      next_data_sum += len(centroids[i])\n",
        "    \n",
        "    next_data = [0] * next_data_sum\n",
        "    next_weight = [0] * next_data_sum\n",
        "\n",
        "    flag = 0\n",
        "    for i in range(len(nearest)):\n",
        "      for j in range(len(centroids[i])):\n",
        "        next_data[j+flag] = centroids[i][j]\n",
        "        next_weight[j+flag] = weight_cent[i][j]\n",
        "      flag += len(centroids[i])\n",
        "    \n",
        "    cluster = [0] * len(chunk)\n",
        "\n",
        "    for i in range(len(nearest)-1):\n",
        "      nearest[i+1] += max(nearest[i])+1\n",
        "\n",
        "    tmp = [0] * len(nearest)\n",
        "    for i in range(len(chunk)):\n",
        "      cluster[i] = nearest[chunk[i]][tmp[chunk[i]]]\n",
        "      tmp[chunk[i]] += 1\n",
        "\n",
        "    tree_list.append(cluster)\n",
        "    level += 1\n",
        "\n",
        "    partition_time_list.append(partition_time)\n",
        "    coarsening1_time_list.append(coarsening1_time)\n",
        "    coarsening2_time_list.append(coarsening2_time)\n",
        "    collapsing_time_list.append(collapsing_time)\n",
        "\n",
        "    if (esc==False) and (len(data) == len(next_data)):\n",
        "      break\n",
        "    data = np.array(next_data)\n",
        "    weight = next_weight\n",
        "\n",
        "    epsilon = ep_rate * epsilon\n",
        "\n",
        "  return tree_list, data_list, weight_list, level, partition_time_list, coarsening1_time_list, coarsening2_time_list, collapsing_time_list"
      ],
      "execution_count": 0,
      "outputs": []
    },
    {
      "cell_type": "code",
      "metadata": {
        "id": "WGfbJeK35UgJ",
        "colab_type": "code",
        "colab": {}
      },
      "source": [
        "# solve representative labels per each BiDViT level\n",
        "def representer(tree_list):\n",
        "  import copy\n",
        "  represent_list = []\n",
        "  for k in range(1, len(tree_list)+1):\n",
        "      represent = copy.deepcopy(tree_list)\n",
        "      for i in range(len(tree_list)-k, 0, -1):\n",
        "        for j in range(len(tree_list[i-1])):\n",
        "          represent[i-1][j] = represent[i][represent[i-1][j]]\n",
        "      represent_list.append(np.array(represent[0]))\n",
        "  for i in range(len(represent_list) // 2): # reverse the list\n",
        "      represent_list[i],represent_list[-1-i] = represent_list[-1-i],represent_list[i]\n",
        "  return represent_list"
      ],
      "execution_count": 0,
      "outputs": []
    },
    {
      "cell_type": "code",
      "metadata": {
        "id": "sstQ6rsN5YPt",
        "colab_type": "code",
        "colab": {}
      },
      "source": [
        "# solve some evaluation score\n",
        "def score_func(data, represent_list):\n",
        "  from sklearn.metrics import silhouette_score, calinski_harabasz_score, davies_bouldin_score\n",
        "  silhouette_coefficient_list = []\n",
        "  calinski_harabasz_index_list = []\n",
        "  davies_bouldin_index_list = []\n",
        "  cluster_list = []\n",
        "  for i in range(len(represent_list)):\n",
        "    silhouette_coefficient_list.append(silhouette_score(data, represent_list[i]))\n",
        "    calinski_harabasz_index_list.append(calinski_harabasz_score(data, represent_list[i]))\n",
        "    davies_bouldin_index_list.append(davies_bouldin_score(data, represent_list[i]))\n",
        "    cluster_list.append(max(represent_list[i]) + 1)\n",
        "  return silhouette_coefficient_list, calinski_harabasz_index_list, davies_bouldin_index_list, cluster_list"
      ],
      "execution_count": 0,
      "outputs": []
    },
    {
      "cell_type": "code",
      "metadata": {
        "id": "2w031-Cd5f4n",
        "colab_type": "code",
        "colab": {}
      },
      "source": [
        "# benchmark function for BiDViT\n",
        "def benchmark_BiDViT_QA(data, weight, required_level=10, kappa=30, epsilon=1.0, ep_rate=1.3, rev_rate=1.1, esc=False, iteration=10):\n",
        "  partition_time_QA = []\n",
        "  coarsening1_time_QA = []\n",
        "  coarsening2_time_QA = []\n",
        "  collapsing_time_QA = []\n",
        "  silhouette_coefficient_QA = []\n",
        "  calinski_harabasz_index_QA = []\n",
        "  davies_bouldin_index_QA = []\n",
        "  cluster_QA = []\n",
        "  for n in range(iteration):\n",
        "    tree_list_QA, data_list_QA, weight_list_QA, level_QA, par, coa1, coa2, col = time_BiDViT_QA(data, weight, required_level, kappa, epsilon, ep_rate, rev_rate, esc)\n",
        "    represent_list_QA = representer(tree_list_QA)\n",
        "    sil, cal, dav, clu = score_func(data, represent_list_QA)\n",
        "    partition_time_QA.extend(par)\n",
        "    coarsening1_time_QA.extend(coa1)\n",
        "    coarsening2_time_QA.extend(coa2)\n",
        "    collapsing_time_QA.extend(col)\n",
        "    silhouette_coefficient_QA.extend(sil)\n",
        "    calinski_harabasz_index_QA.extend(cal)\n",
        "    davies_bouldin_index_QA.extend(dav)\n",
        "    cluster_QA.extend(clu)\n",
        "  time_all_QA = np.array(partition_time_QA) + np.array(coarsening1_time_QA) + np.array(coarsening2_time_QA) + np.array(collapsing_time_QA)\n",
        "\n",
        "  cluflag = -1\n",
        "  clurep = []\n",
        "  for i, x in enumerate(sorted(cluster_QA)):\n",
        "    if cluflag != x:\n",
        "      clurep.append(x)\n",
        "      cluflag = x\n",
        "\n",
        "  time_par_ave = [0] * len(clurep)\n",
        "  time_coa1_ave = [0] * len(clurep)\n",
        "  time_coa2_ave = [0] * len(clurep)\n",
        "  time_col_ave = [0] * len(clurep)\n",
        "  time_all_ave = [0] * len(clurep)\n",
        "  score_sil_ave = [0] * len(clurep)\n",
        "  score_cal_ave = [0] * len(clurep)\n",
        "  score_dav_ave = [0] * len(clurep)\n",
        "  for j, c in enumerate(clurep):\n",
        "    for i, x in enumerate(cluster_QA):\n",
        "      if x == c:\n",
        "        time_par_ave[j] += partition_time_QA[i]\n",
        "        time_coa1_ave[j] += coarsening1_time_QA[i]\n",
        "        time_coa2_ave[j] += coarsening2_time_QA[i]\n",
        "        time_col_ave[j] += collapsing_time_QA[i]\n",
        "        time_all_ave[j] += time_all_QA[i]\n",
        "        score_sil_ave[j] += silhouette_coefficient_QA[i]\n",
        "        score_cal_ave[j] += calinski_harabasz_index_QA[i]\n",
        "        score_dav_ave[j] += davies_bouldin_index_QA[i]\n",
        "    time_par_ave[j] = time_par_ave[j] / len([i for i, x in enumerate(cluster_QA) if x == c])\n",
        "    time_coa1_ave[j] = time_coa1_ave[j] / len([i for i, x in enumerate(cluster_QA) if x == c])\n",
        "    time_coa2_ave[j] = time_coa2_ave[j] / len([i for i, x in enumerate(cluster_QA) if x == c])\n",
        "    time_col_ave[j] = time_col_ave[j] / len([i for i, x in enumerate(cluster_QA) if x == c])\n",
        "    time_all_ave[j] = time_all_ave[j] / len([i for i, x in enumerate(cluster_QA) if x == c])\n",
        "    score_sil_ave[j] = score_sil_ave[j] / len([i for i, x in enumerate(cluster_QA) if x == c])\n",
        "    score_cal_ave[j] = score_cal_ave[j] / len([i for i, x in enumerate(cluster_QA) if x == c])\n",
        "    score_dav_ave[j] = score_dav_ave[j] / len([i for i, x in enumerate(cluster_QA) if x == c])\n",
        "\n",
        "  return {\n",
        "      \"cluster\": clurep,\n",
        "      \"time\": {\n",
        "          \"partition\": time_par_ave,\n",
        "          \"coarsening1\": time_coa1_ave,\n",
        "          \"coarsening2\": time_coa2_ave,\n",
        "          \"collapsing\": time_col_ave,\n",
        "          \"all\": time_all_ave\n",
        "      },\n",
        "      \"score\": {\n",
        "          \"silhouette_coef\": score_sil_ave,\n",
        "          \"calinski_harabasz\": score_cal_ave,\n",
        "          \"davies_bouldin\": score_dav_ave\n",
        "      }\n",
        "  }"
      ],
      "execution_count": 0,
      "outputs": []
    },
    {
      "cell_type": "markdown",
      "metadata": {
        "colab_type": "text",
        "id": "ekJ-AGwaSCK0"
      },
      "source": [
        "## Evaluation"
      ]
    },
    {
      "cell_type": "markdown",
      "metadata": {
        "id": "DSY5djVAVBMx",
        "colab_type": "text"
      },
      "source": [
        "Environment\n",
        "- Google Colab"
      ]
    },
    {
      "cell_type": "code",
      "metadata": {
        "id": "5u4vmG-q65yV",
        "colab_type": "code",
        "colab": {}
      },
      "source": [
        "import warnings\n",
        "warnings.filterwarnings('ignore')"
      ],
      "execution_count": 0,
      "outputs": []
    },
    {
      "cell_type": "code",
      "metadata": {
        "id": "WKCSjEqe688M",
        "colab_type": "code",
        "outputId": "aff328a6-4d0e-40ab-a598-921b3c83b9b6",
        "colab": {
          "base_uri": "https://localhost:8080/",
          "height": 450
        }
      },
      "source": [
        "result = benchmark_BiDViT_QA(data, weight, required_level=10, kappa=30, epsilon=1.0, ep_rate=1.3, rev_rate=1.1, esc=False, iteration=1)"
      ],
      "execution_count": 0,
      "outputs": [
        {
          "output_type": "error",
          "ename": "KeyboardInterrupt",
          "evalue": "ignored",
          "traceback": [
            "\u001b[0;31m---------------------------------------------------------------------------\u001b[0m",
            "\u001b[0;31mTypeError\u001b[0m                                 Traceback (most recent call last)",
            "\u001b[0;32m/usr/local/lib/python3.6/dist-packages/urllib3/connectionpool.py\u001b[0m in \u001b[0;36m_make_request\u001b[0;34m(self, conn, method, url, timeout, chunked, **httplib_request_kw)\u001b[0m\n\u001b[1;32m    376\u001b[0m             \u001b[0;32mtry\u001b[0m\u001b[0;34m:\u001b[0m  \u001b[0;31m# Python 2.7, use buffering of HTTP responses\u001b[0m\u001b[0;34m\u001b[0m\u001b[0;34m\u001b[0m\u001b[0m\n\u001b[0;32m--> 377\u001b[0;31m                 \u001b[0mhttplib_response\u001b[0m \u001b[0;34m=\u001b[0m \u001b[0mconn\u001b[0m\u001b[0;34m.\u001b[0m\u001b[0mgetresponse\u001b[0m\u001b[0;34m(\u001b[0m\u001b[0mbuffering\u001b[0m\u001b[0;34m=\u001b[0m\u001b[0;32mTrue\u001b[0m\u001b[0;34m)\u001b[0m\u001b[0;34m\u001b[0m\u001b[0;34m\u001b[0m\u001b[0m\n\u001b[0m\u001b[1;32m    378\u001b[0m             \u001b[0;32mexcept\u001b[0m \u001b[0mTypeError\u001b[0m\u001b[0;34m:\u001b[0m  \u001b[0;31m# Python 3\u001b[0m\u001b[0;34m\u001b[0m\u001b[0;34m\u001b[0m\u001b[0m\n",
            "\u001b[0;31mTypeError\u001b[0m: getresponse() got an unexpected keyword argument 'buffering'",
            "\nDuring handling of the above exception, another exception occurred:\n",
            "\u001b[0;31mKeyboardInterrupt\u001b[0m                         Traceback (most recent call last)",
            "\u001b[0;32m<ipython-input-11-eaa26c144688>\u001b[0m in \u001b[0;36m<module>\u001b[0;34m()\u001b[0m\n\u001b[0;32m----> 1\u001b[0;31m \u001b[0mresult\u001b[0m \u001b[0;34m=\u001b[0m \u001b[0mbenchmark_BiDViT_QA\u001b[0m\u001b[0;34m(\u001b[0m\u001b[0mdata\u001b[0m\u001b[0;34m,\u001b[0m \u001b[0mweight\u001b[0m\u001b[0;34m,\u001b[0m \u001b[0mrequired_level\u001b[0m\u001b[0;34m=\u001b[0m\u001b[0;36m10\u001b[0m\u001b[0;34m,\u001b[0m \u001b[0mkappa\u001b[0m\u001b[0;34m=\u001b[0m\u001b[0;36m30\u001b[0m\u001b[0;34m,\u001b[0m \u001b[0mepsilon\u001b[0m\u001b[0;34m=\u001b[0m\u001b[0;36m1.0\u001b[0m\u001b[0;34m,\u001b[0m \u001b[0mep_rate\u001b[0m\u001b[0;34m=\u001b[0m\u001b[0;36m1.3\u001b[0m\u001b[0;34m,\u001b[0m \u001b[0mrev_rate\u001b[0m\u001b[0;34m=\u001b[0m\u001b[0;36m1.1\u001b[0m\u001b[0;34m,\u001b[0m \u001b[0mesc\u001b[0m\u001b[0;34m=\u001b[0m\u001b[0;32mFalse\u001b[0m\u001b[0;34m,\u001b[0m \u001b[0miteration\u001b[0m\u001b[0;34m=\u001b[0m\u001b[0;36m10\u001b[0m\u001b[0;34m)\u001b[0m\u001b[0;34m\u001b[0m\u001b[0;34m\u001b[0m\u001b[0m\n\u001b[0m",
            "\u001b[0;32m<ipython-input-10-44f8d61cea62>\u001b[0m in \u001b[0;36mbenchmark_BiDViT_QA\u001b[0;34m(data, weight, required_level, kappa, epsilon, ep_rate, rev_rate, esc, iteration)\u001b[0m\n\u001b[1;32m      9\u001b[0m   \u001b[0mcluster_QA\u001b[0m \u001b[0;34m=\u001b[0m \u001b[0;34m[\u001b[0m\u001b[0;34m]\u001b[0m\u001b[0;34m\u001b[0m\u001b[0;34m\u001b[0m\u001b[0m\n\u001b[1;32m     10\u001b[0m   \u001b[0;32mfor\u001b[0m \u001b[0mn\u001b[0m \u001b[0;32min\u001b[0m \u001b[0mrange\u001b[0m\u001b[0;34m(\u001b[0m\u001b[0miteration\u001b[0m\u001b[0;34m)\u001b[0m\u001b[0;34m:\u001b[0m\u001b[0;34m\u001b[0m\u001b[0;34m\u001b[0m\u001b[0m\n\u001b[0;32m---> 11\u001b[0;31m     \u001b[0mtree_list_QA\u001b[0m\u001b[0;34m,\u001b[0m \u001b[0mdata_list_QA\u001b[0m\u001b[0;34m,\u001b[0m \u001b[0mweight_list_QA\u001b[0m\u001b[0;34m,\u001b[0m \u001b[0mlevel_QA\u001b[0m\u001b[0;34m,\u001b[0m \u001b[0mpar\u001b[0m\u001b[0;34m,\u001b[0m \u001b[0mcoa1\u001b[0m\u001b[0;34m,\u001b[0m \u001b[0mcoa2\u001b[0m\u001b[0;34m,\u001b[0m \u001b[0mcol\u001b[0m \u001b[0;34m=\u001b[0m \u001b[0mtime_BiDViT_QA\u001b[0m\u001b[0;34m(\u001b[0m\u001b[0mdata\u001b[0m\u001b[0;34m,\u001b[0m \u001b[0mweight\u001b[0m\u001b[0;34m,\u001b[0m \u001b[0mrequired_level\u001b[0m\u001b[0;34m,\u001b[0m \u001b[0mkappa\u001b[0m\u001b[0;34m,\u001b[0m \u001b[0mepsilon\u001b[0m\u001b[0;34m,\u001b[0m \u001b[0mep_rate\u001b[0m\u001b[0;34m,\u001b[0m \u001b[0mrev_rate\u001b[0m\u001b[0;34m,\u001b[0m \u001b[0mesc\u001b[0m\u001b[0;34m)\u001b[0m\u001b[0;34m\u001b[0m\u001b[0;34m\u001b[0m\u001b[0m\n\u001b[0m\u001b[1;32m     12\u001b[0m     \u001b[0mrepresent_list_QA\u001b[0m \u001b[0;34m=\u001b[0m \u001b[0mrepresenter\u001b[0m\u001b[0;34m(\u001b[0m\u001b[0mtree_list_QA\u001b[0m\u001b[0;34m)\u001b[0m\u001b[0;34m\u001b[0m\u001b[0;34m\u001b[0m\u001b[0m\n\u001b[1;32m     13\u001b[0m     \u001b[0msil\u001b[0m\u001b[0;34m,\u001b[0m \u001b[0mcal\u001b[0m\u001b[0;34m,\u001b[0m \u001b[0mdav\u001b[0m\u001b[0;34m,\u001b[0m \u001b[0mclu\u001b[0m \u001b[0;34m=\u001b[0m \u001b[0mscore_func\u001b[0m\u001b[0;34m(\u001b[0m\u001b[0mdata\u001b[0m\u001b[0;34m,\u001b[0m \u001b[0mrepresent_list_QA\u001b[0m\u001b[0;34m)\u001b[0m\u001b[0;34m\u001b[0m\u001b[0;34m\u001b[0m\u001b[0m\n",
            "\u001b[0;32m<ipython-input-5-53d3a61578a9>\u001b[0m in \u001b[0;36mtime_BiDViT_QA\u001b[0;34m(data, weight, required_level, kappa, epsilon, ep_rate, rev_rate, esc)\u001b[0m\n\u001b[1;32m    230\u001b[0m     \u001b[0mpartition_time\u001b[0m \u001b[0;34m+=\u001b[0m \u001b[0mpartition_end\u001b[0m \u001b[0;34m-\u001b[0m \u001b[0mpartition_start\u001b[0m\u001b[0;34m\u001b[0m\u001b[0;34m\u001b[0m\u001b[0m\n\u001b[1;32m    231\u001b[0m \u001b[0;34m\u001b[0m\u001b[0m\n\u001b[0;32m--> 232\u001b[0;31m     \u001b[0msolutions\u001b[0m\u001b[0;34m,\u001b[0m \u001b[0mcentroids\u001b[0m\u001b[0;34m,\u001b[0m \u001b[0mweight_cent\u001b[0m\u001b[0;34m,\u001b[0m \u001b[0mnearest\u001b[0m\u001b[0;34m,\u001b[0m \u001b[0mt1\u001b[0m\u001b[0;34m,\u001b[0m \u001b[0mt2\u001b[0m\u001b[0;34m,\u001b[0m \u001b[0mt3\u001b[0m \u001b[0;34m=\u001b[0m \u001b[0mall_w_updater_QA\u001b[0m\u001b[0;34m(\u001b[0m\u001b[0mdata\u001b[0m\u001b[0;34m,\u001b[0m \u001b[0mchunk\u001b[0m\u001b[0;34m,\u001b[0m \u001b[0mweight\u001b[0m\u001b[0;34m,\u001b[0m \u001b[0mepsilon\u001b[0m\u001b[0;34m,\u001b[0m \u001b[0mrev_rate\u001b[0m\u001b[0;34m)\u001b[0m\u001b[0;34m\u001b[0m\u001b[0;34m\u001b[0m\u001b[0m\n\u001b[0m\u001b[1;32m    233\u001b[0m     \u001b[0mcoarsening1_time\u001b[0m \u001b[0;34m+=\u001b[0m \u001b[0mt1\u001b[0m\u001b[0;34m\u001b[0m\u001b[0;34m\u001b[0m\u001b[0m\n\u001b[1;32m    234\u001b[0m     \u001b[0mcoarsening2_time\u001b[0m \u001b[0;34m+=\u001b[0m \u001b[0mt2\u001b[0m\u001b[0;34m\u001b[0m\u001b[0;34m\u001b[0m\u001b[0m\n",
            "\u001b[0;32m<ipython-input-5-53d3a61578a9>\u001b[0m in \u001b[0;36mall_w_updater_QA\u001b[0;34m(data, chunk_label, weight, epsilon, rev_rate)\u001b[0m\n\u001b[1;32m    191\u001b[0m     \u001b[0mchunk_set\u001b[0m \u001b[0;34m=\u001b[0m \u001b[0mnp\u001b[0m\u001b[0;34m.\u001b[0m\u001b[0mdelete\u001b[0m\u001b[0;34m(\u001b[0m\u001b[0mdata\u001b[0m\u001b[0;34m,\u001b[0m \u001b[0;34m[\u001b[0m\u001b[0mi\u001b[0m \u001b[0;32mfor\u001b[0m \u001b[0mi\u001b[0m\u001b[0;34m,\u001b[0m \u001b[0mx\u001b[0m \u001b[0;32min\u001b[0m \u001b[0menumerate\u001b[0m\u001b[0;34m(\u001b[0m\u001b[0mchunk_label\u001b[0m\u001b[0;34m)\u001b[0m \u001b[0;32mif\u001b[0m \u001b[0;32mnot\u001b[0m \u001b[0mx\u001b[0m \u001b[0;34m==\u001b[0m \u001b[0mchunk_num\u001b[0m\u001b[0;34m]\u001b[0m\u001b[0;34m,\u001b[0m \u001b[0maxis\u001b[0m\u001b[0;34m=\u001b[0m\u001b[0;36m0\u001b[0m\u001b[0;34m)\u001b[0m\u001b[0;34m\u001b[0m\u001b[0;34m\u001b[0m\u001b[0m\n\u001b[1;32m    192\u001b[0m     \u001b[0mchunk_weight\u001b[0m \u001b[0;34m=\u001b[0m \u001b[0mnp\u001b[0m\u001b[0;34m.\u001b[0m\u001b[0mdelete\u001b[0m\u001b[0;34m(\u001b[0m\u001b[0mweight\u001b[0m\u001b[0;34m,\u001b[0m \u001b[0;34m[\u001b[0m\u001b[0mi\u001b[0m \u001b[0;32mfor\u001b[0m \u001b[0mi\u001b[0m\u001b[0;34m,\u001b[0m \u001b[0mx\u001b[0m \u001b[0;32min\u001b[0m \u001b[0menumerate\u001b[0m\u001b[0;34m(\u001b[0m\u001b[0mchunk_label\u001b[0m\u001b[0;34m)\u001b[0m \u001b[0;32mif\u001b[0m \u001b[0;32mnot\u001b[0m \u001b[0mx\u001b[0m \u001b[0;34m==\u001b[0m \u001b[0mchunk_num\u001b[0m\u001b[0;34m]\u001b[0m\u001b[0;34m,\u001b[0m \u001b[0maxis\u001b[0m\u001b[0;34m=\u001b[0m\u001b[0;36m0\u001b[0m\u001b[0;34m)\u001b[0m\u001b[0;34m\u001b[0m\u001b[0;34m\u001b[0m\u001b[0m\n\u001b[0;32m--> 193\u001b[0;31m     \u001b[0msolutions\u001b[0m\u001b[0;34m[\u001b[0m\u001b[0mchunk_num\u001b[0m\u001b[0;34m]\u001b[0m\u001b[0;34m,\u001b[0m \u001b[0mt1\u001b[0m\u001b[0;34m,\u001b[0m \u001b[0mt2\u001b[0m \u001b[0;34m=\u001b[0m \u001b[0mcoarsening_set_QA\u001b[0m\u001b[0;34m(\u001b[0m\u001b[0mchunk_set\u001b[0m\u001b[0;34m,\u001b[0m \u001b[0mchunk_weight\u001b[0m\u001b[0;34m,\u001b[0m \u001b[0mepsilon\u001b[0m\u001b[0;34m,\u001b[0m \u001b[0mrev_rate\u001b[0m\u001b[0;34m)\u001b[0m\u001b[0;34m\u001b[0m\u001b[0;34m\u001b[0m\u001b[0m\n\u001b[0m\u001b[1;32m    194\u001b[0m     \u001b[0mcentroids\u001b[0m\u001b[0;34m[\u001b[0m\u001b[0mchunk_num\u001b[0m\u001b[0;34m]\u001b[0m\u001b[0;34m,\u001b[0m \u001b[0mweight_cent\u001b[0m\u001b[0;34m[\u001b[0m\u001b[0mchunk_num\u001b[0m\u001b[0;34m]\u001b[0m\u001b[0;34m,\u001b[0m \u001b[0mnearest\u001b[0m\u001b[0;34m[\u001b[0m\u001b[0mchunk_num\u001b[0m\u001b[0;34m]\u001b[0m \u001b[0;34m=\u001b[0m \u001b[0mw_updater_QA\u001b[0m\u001b[0;34m(\u001b[0m\u001b[0mchunk_set\u001b[0m\u001b[0;34m,\u001b[0m \u001b[0mchunk_weight\u001b[0m\u001b[0;34m,\u001b[0m \u001b[0msolutions\u001b[0m\u001b[0;34m[\u001b[0m\u001b[0mchunk_num\u001b[0m\u001b[0;34m]\u001b[0m\u001b[0;34m)\u001b[0m\u001b[0;34m\u001b[0m\u001b[0;34m\u001b[0m\u001b[0m\n\u001b[1;32m    195\u001b[0m     \u001b[0mcoarsening1_time\u001b[0m \u001b[0;34m+=\u001b[0m \u001b[0mt1\u001b[0m\u001b[0;34m\u001b[0m\u001b[0;34m\u001b[0m\u001b[0m\n",
            "\u001b[0;32m<ipython-input-5-53d3a61578a9>\u001b[0m in \u001b[0;36mcoarsening_set_QA\u001b[0;34m(data_chunk, weight, epsilon, rev_rate)\u001b[0m\n\u001b[1;32m    143\u001b[0m \u001b[0;32mdef\u001b[0m \u001b[0mcoarsening_set_QA\u001b[0m\u001b[0;34m(\u001b[0m\u001b[0mdata_chunk\u001b[0m\u001b[0;34m,\u001b[0m \u001b[0mweight\u001b[0m\u001b[0;34m,\u001b[0m \u001b[0mepsilon\u001b[0m\u001b[0;34m,\u001b[0m \u001b[0mrev_rate\u001b[0m\u001b[0;34m=\u001b[0m\u001b[0;36m1.1\u001b[0m\u001b[0;34m)\u001b[0m\u001b[0;34m:\u001b[0m\u001b[0;34m\u001b[0m\u001b[0;34m\u001b[0m\u001b[0m\n\u001b[1;32m    144\u001b[0m     \u001b[0mqubo\u001b[0m\u001b[0;34m,\u001b[0m \u001b[0mcoarsening1_time\u001b[0m \u001b[0;34m=\u001b[0m \u001b[0mMtoQ\u001b[0m\u001b[0;34m(\u001b[0m\u001b[0mdata_chunk\u001b[0m\u001b[0;34m,\u001b[0m \u001b[0mweight\u001b[0m\u001b[0;34m,\u001b[0m \u001b[0mepsilon\u001b[0m\u001b[0;34m,\u001b[0m \u001b[0mrev_rate\u001b[0m\u001b[0;34m)\u001b[0m\u001b[0;34m\u001b[0m\u001b[0;34m\u001b[0m\u001b[0m\n\u001b[0;32m--> 145\u001b[0;31m     \u001b[0msolutions\u001b[0m\u001b[0;34m,\u001b[0m \u001b[0mcoarsening2_time\u001b[0m \u001b[0;34m=\u001b[0m \u001b[0mqubo_solver_QA\u001b[0m\u001b[0;34m(\u001b[0m\u001b[0mqubo\u001b[0m\u001b[0;34m)\u001b[0m\u001b[0;34m\u001b[0m\u001b[0;34m\u001b[0m\u001b[0m\n\u001b[0m\u001b[1;32m    146\u001b[0m     \u001b[0;32mreturn\u001b[0m \u001b[0msolutions\u001b[0m\u001b[0;34m,\u001b[0m \u001b[0mcoarsening1_time\u001b[0m\u001b[0;34m,\u001b[0m \u001b[0mcoarsening2_time\u001b[0m\u001b[0;34m\u001b[0m\u001b[0;34m\u001b[0m\u001b[0m\n\u001b[1;32m    147\u001b[0m \u001b[0;34m\u001b[0m\u001b[0m\n",
            "\u001b[0;32m<ipython-input-5-53d3a61578a9>\u001b[0m in \u001b[0;36mqubo_solver_QA\u001b[0;34m(qubo)\u001b[0m\n\u001b[1;32m    133\u001b[0m \u001b[0;34m\"Only rewrite this function to change the QUBO solver\"\u001b[0m\u001b[0;34m\u001b[0m\u001b[0;34m\u001b[0m\u001b[0m\n\u001b[1;32m    134\u001b[0m \u001b[0;32mdef\u001b[0m \u001b[0mqubo_solver_QA\u001b[0m\u001b[0;34m(\u001b[0m\u001b[0mqubo\u001b[0m\u001b[0;34m)\u001b[0m\u001b[0;34m:\u001b[0m\u001b[0;34m\u001b[0m\u001b[0;34m\u001b[0m\u001b[0m\n\u001b[0;32m--> 135\u001b[0;31m     \u001b[0msampler\u001b[0m \u001b[0;34m=\u001b[0m \u001b[0mEmbeddingComposite\u001b[0m\u001b[0;34m(\u001b[0m\u001b[0mDWaveSampler\u001b[0m\u001b[0;34m(\u001b[0m\u001b[0mendpoint\u001b[0m\u001b[0;34m=\u001b[0m\u001b[0;34m'https://cloud.dwavesys.com/sapi'\u001b[0m\u001b[0;34m,\u001b[0m \u001b[0mtoken\u001b[0m\u001b[0;34m=\u001b[0m\u001b[0;34m\"DEV-7e439a945f84ac3496a7ed481d73c3ed6ac728df\"\u001b[0m\u001b[0;34m,\u001b[0m \u001b[0msolver\u001b[0m\u001b[0;34m=\u001b[0m\u001b[0;34m'DW_2000Q_2_1'\u001b[0m\u001b[0;34m)\u001b[0m\u001b[0;34m)\u001b[0m\u001b[0;34m\u001b[0m\u001b[0;34m\u001b[0m\u001b[0m\n\u001b[0m\u001b[1;32m    136\u001b[0m     \u001b[0mresponse\u001b[0m \u001b[0;34m=\u001b[0m \u001b[0msampler\u001b[0m\u001b[0;34m.\u001b[0m\u001b[0msample_qubo\u001b[0m\u001b[0;34m(\u001b[0m\u001b[0mqubo\u001b[0m\u001b[0;34m,\u001b[0m \u001b[0mnum_reads\u001b[0m\u001b[0;34m=\u001b[0m\u001b[0;36m1\u001b[0m\u001b[0;34m)\u001b[0m\u001b[0;34m\u001b[0m\u001b[0;34m\u001b[0m\u001b[0m\n\u001b[1;32m    137\u001b[0m     \u001b[0msolutions\u001b[0m \u001b[0;34m=\u001b[0m \u001b[0mresponse\u001b[0m\u001b[0;34m.\u001b[0m\u001b[0mrecord\u001b[0m\u001b[0;34m[\u001b[0m\u001b[0;34m'sample'\u001b[0m\u001b[0;34m]\u001b[0m\u001b[0;34m[\u001b[0m\u001b[0mnp\u001b[0m\u001b[0;34m.\u001b[0m\u001b[0margmin\u001b[0m\u001b[0;34m(\u001b[0m\u001b[0mresponse\u001b[0m\u001b[0;34m.\u001b[0m\u001b[0mrecord\u001b[0m\u001b[0;34m[\u001b[0m\u001b[0;34m'energy'\u001b[0m\u001b[0;34m]\u001b[0m\u001b[0;34m)\u001b[0m\u001b[0;34m]\u001b[0m\u001b[0;34m\u001b[0m\u001b[0;34m\u001b[0m\u001b[0m\n",
            "\u001b[0;32m/usr/local/lib/python3.6/dist-packages/dwave/system/samplers/dwave_sampler.py\u001b[0m in \u001b[0;36m__init__\u001b[0;34m(self, **config)\u001b[0m\n\u001b[1;32m    100\u001b[0m \u001b[0;34m\u001b[0m\u001b[0m\n\u001b[1;32m    101\u001b[0m         \u001b[0mself\u001b[0m\u001b[0;34m.\u001b[0m\u001b[0mclient\u001b[0m \u001b[0;34m=\u001b[0m \u001b[0mClient\u001b[0m\u001b[0;34m.\u001b[0m\u001b[0mfrom_config\u001b[0m\u001b[0;34m(\u001b[0m\u001b[0;34m**\u001b[0m\u001b[0mconfig\u001b[0m\u001b[0;34m)\u001b[0m\u001b[0;34m\u001b[0m\u001b[0;34m\u001b[0m\u001b[0m\n\u001b[0;32m--> 102\u001b[0;31m         \u001b[0mself\u001b[0m\u001b[0;34m.\u001b[0m\u001b[0msolver\u001b[0m \u001b[0;34m=\u001b[0m \u001b[0mself\u001b[0m\u001b[0;34m.\u001b[0m\u001b[0mclient\u001b[0m\u001b[0;34m.\u001b[0m\u001b[0mget_solver\u001b[0m\u001b[0;34m(\u001b[0m\u001b[0;34m)\u001b[0m\u001b[0;34m\u001b[0m\u001b[0;34m\u001b[0m\u001b[0m\n\u001b[0m\u001b[1;32m    103\u001b[0m \u001b[0;34m\u001b[0m\u001b[0m\n\u001b[1;32m    104\u001b[0m         \u001b[0;31m# need to set up the properties, parameters\u001b[0m\u001b[0;34m\u001b[0m\u001b[0;34m\u001b[0m\u001b[0;34m\u001b[0m\u001b[0m\n",
            "\u001b[0;32m/usr/local/lib/python3.6/dist-packages/dwave/cloud/client.py\u001b[0m in \u001b[0;36mget_solver\u001b[0;34m(self, name, refresh, **filters)\u001b[0m\n\u001b[1;32m   1035\u001b[0m         \u001b[0;32mtry\u001b[0m\u001b[0;34m:\u001b[0m\u001b[0;34m\u001b[0m\u001b[0;34m\u001b[0m\u001b[0m\n\u001b[1;32m   1036\u001b[0m             \u001b[0mlogger\u001b[0m\u001b[0;34m.\u001b[0m\u001b[0mdebug\u001b[0m\u001b[0;34m(\u001b[0m\u001b[0;34m\"Fetching solvers according to filters=%r\"\u001b[0m\u001b[0;34m,\u001b[0m \u001b[0mfilters\u001b[0m\u001b[0;34m)\u001b[0m\u001b[0;34m\u001b[0m\u001b[0;34m\u001b[0m\u001b[0m\n\u001b[0;32m-> 1037\u001b[0;31m             \u001b[0;32mreturn\u001b[0m \u001b[0mself\u001b[0m\u001b[0;34m.\u001b[0m\u001b[0mget_solvers\u001b[0m\u001b[0;34m(\u001b[0m\u001b[0mrefresh\u001b[0m\u001b[0;34m=\u001b[0m\u001b[0mrefresh\u001b[0m\u001b[0;34m,\u001b[0m \u001b[0;34m**\u001b[0m\u001b[0mfilters\u001b[0m\u001b[0;34m)\u001b[0m\u001b[0;34m[\u001b[0m\u001b[0;36m0\u001b[0m\u001b[0;34m]\u001b[0m\u001b[0;34m\u001b[0m\u001b[0;34m\u001b[0m\u001b[0m\n\u001b[0m\u001b[1;32m   1038\u001b[0m         \u001b[0;32mexcept\u001b[0m \u001b[0mIndexError\u001b[0m\u001b[0;34m:\u001b[0m\u001b[0;34m\u001b[0m\u001b[0;34m\u001b[0m\u001b[0m\n\u001b[1;32m   1039\u001b[0m             \u001b[0;32mraise\u001b[0m \u001b[0mSolverNotFoundError\u001b[0m\u001b[0;34m(\u001b[0m\u001b[0;34m\"Solver with the requested features not available\"\u001b[0m\u001b[0;34m)\u001b[0m\u001b[0;34m\u001b[0m\u001b[0;34m\u001b[0m\u001b[0m\n",
            "\u001b[0;32m/usr/local/lib/python3.6/dist-packages/dwave/cloud/client.py\u001b[0m in \u001b[0;36mget_solvers\u001b[0;34m(self, refresh, order_by, **filters)\u001b[0m\n\u001b[1;32m    951\u001b[0m \u001b[0;34m\u001b[0m\u001b[0m\n\u001b[1;32m    952\u001b[0m         \u001b[0;31m# filter\u001b[0m\u001b[0;34m\u001b[0m\u001b[0;34m\u001b[0m\u001b[0;34m\u001b[0m\u001b[0m\n\u001b[0;32m--> 953\u001b[0;31m         \u001b[0msolvers\u001b[0m \u001b[0;34m=\u001b[0m \u001b[0mself\u001b[0m\u001b[0;34m.\u001b[0m\u001b[0m_fetch_solvers\u001b[0m\u001b[0;34m(\u001b[0m\u001b[0;34m**\u001b[0m\u001b[0mquery\u001b[0m\u001b[0;34m)\u001b[0m\u001b[0;34m\u001b[0m\u001b[0;34m\u001b[0m\u001b[0m\n\u001b[0m\u001b[1;32m    954\u001b[0m         \u001b[0msolvers\u001b[0m \u001b[0;34m=\u001b[0m \u001b[0;34m[\u001b[0m\u001b[0ms\u001b[0m \u001b[0;32mfor\u001b[0m \u001b[0ms\u001b[0m \u001b[0;32min\u001b[0m \u001b[0msolvers\u001b[0m \u001b[0;32mif\u001b[0m \u001b[0mall\u001b[0m\u001b[0;34m(\u001b[0m\u001b[0mp\u001b[0m\u001b[0;34m(\u001b[0m\u001b[0ms\u001b[0m\u001b[0;34m)\u001b[0m \u001b[0;32mfor\u001b[0m \u001b[0mp\u001b[0m \u001b[0;32min\u001b[0m \u001b[0mpredicates\u001b[0m\u001b[0;34m)\u001b[0m\u001b[0;34m]\u001b[0m\u001b[0;34m\u001b[0m\u001b[0;34m\u001b[0m\u001b[0m\n\u001b[1;32m    955\u001b[0m \u001b[0;34m\u001b[0m\u001b[0m\n",
            "\u001b[0;32m/usr/local/lib/python3.6/dist-packages/dwave/cloud/utils.py\u001b[0m in \u001b[0;36mwrapper\u001b[0;34m(*args, **kwargs)\u001b[0m\n\u001b[1;32m    398\u001b[0m                 \u001b[0mval\u001b[0m \u001b[0;34m=\u001b[0m \u001b[0mdata\u001b[0m\u001b[0;34m.\u001b[0m\u001b[0mget\u001b[0m\u001b[0;34m(\u001b[0m\u001b[0;34m'val'\u001b[0m\u001b[0;34m)\u001b[0m\u001b[0;34m\u001b[0m\u001b[0;34m\u001b[0m\u001b[0m\n\u001b[1;32m    399\u001b[0m             \u001b[0;32melse\u001b[0m\u001b[0;34m:\u001b[0m\u001b[0;34m\u001b[0m\u001b[0;34m\u001b[0m\u001b[0m\n\u001b[0;32m--> 400\u001b[0;31m                 \u001b[0mval\u001b[0m \u001b[0;34m=\u001b[0m \u001b[0mfn\u001b[0m\u001b[0;34m(\u001b[0m\u001b[0;34m*\u001b[0m\u001b[0margs\u001b[0m\u001b[0;34m,\u001b[0m \u001b[0;34m**\u001b[0m\u001b[0mkwargs\u001b[0m\u001b[0;34m)\u001b[0m\u001b[0;34m\u001b[0m\u001b[0;34m\u001b[0m\u001b[0m\n\u001b[0m\u001b[1;32m    401\u001b[0m                 \u001b[0mself\u001b[0m\u001b[0;34m.\u001b[0m\u001b[0mcache\u001b[0m\u001b[0;34m[\u001b[0m\u001b[0mkey\u001b[0m\u001b[0;34m]\u001b[0m \u001b[0;34m=\u001b[0m \u001b[0mdict\u001b[0m\u001b[0;34m(\u001b[0m\u001b[0mexpires\u001b[0m\u001b[0;34m=\u001b[0m\u001b[0mnow\u001b[0m\u001b[0;34m+\u001b[0m\u001b[0mself\u001b[0m\u001b[0;34m.\u001b[0m\u001b[0mmaxage\u001b[0m\u001b[0;34m,\u001b[0m \u001b[0mval\u001b[0m\u001b[0;34m=\u001b[0m\u001b[0mval\u001b[0m\u001b[0;34m)\u001b[0m\u001b[0;34m\u001b[0m\u001b[0;34m\u001b[0m\u001b[0m\n\u001b[1;32m    402\u001b[0m \u001b[0;34m\u001b[0m\u001b[0m\n",
            "\u001b[0;32m/usr/local/lib/python3.6/dist-packages/dwave/cloud/client.py\u001b[0m in \u001b[0;36m_fetch_solvers\u001b[0;34m(self, name)\u001b[0m\n\u001b[1;32m    596\u001b[0m \u001b[0;34m\u001b[0m\u001b[0m\n\u001b[1;32m    597\u001b[0m         \u001b[0;32mtry\u001b[0m\u001b[0;34m:\u001b[0m\u001b[0;34m\u001b[0m\u001b[0;34m\u001b[0m\u001b[0m\n\u001b[0;32m--> 598\u001b[0;31m             \u001b[0mresponse\u001b[0m \u001b[0;34m=\u001b[0m \u001b[0mself\u001b[0m\u001b[0;34m.\u001b[0m\u001b[0msession\u001b[0m\u001b[0;34m.\u001b[0m\u001b[0mget\u001b[0m\u001b[0;34m(\u001b[0m\u001b[0murl\u001b[0m\u001b[0;34m)\u001b[0m\u001b[0;34m\u001b[0m\u001b[0;34m\u001b[0m\u001b[0m\n\u001b[0m\u001b[1;32m    599\u001b[0m         \u001b[0;32mexcept\u001b[0m \u001b[0mrequests\u001b[0m\u001b[0;34m.\u001b[0m\u001b[0mexceptions\u001b[0m\u001b[0;34m.\u001b[0m\u001b[0mTimeout\u001b[0m\u001b[0;34m:\u001b[0m\u001b[0;34m\u001b[0m\u001b[0;34m\u001b[0m\u001b[0m\n\u001b[1;32m    600\u001b[0m             \u001b[0;32mraise\u001b[0m \u001b[0mRequestTimeout\u001b[0m\u001b[0;34m\u001b[0m\u001b[0;34m\u001b[0m\u001b[0m\n",
            "\u001b[0;32m/usr/local/lib/python3.6/dist-packages/requests/sessions.py\u001b[0m in \u001b[0;36mget\u001b[0;34m(self, url, **kwargs)\u001b[0m\n\u001b[1;32m    544\u001b[0m \u001b[0;34m\u001b[0m\u001b[0m\n\u001b[1;32m    545\u001b[0m         \u001b[0mkwargs\u001b[0m\u001b[0;34m.\u001b[0m\u001b[0msetdefault\u001b[0m\u001b[0;34m(\u001b[0m\u001b[0;34m'allow_redirects'\u001b[0m\u001b[0;34m,\u001b[0m \u001b[0;32mTrue\u001b[0m\u001b[0;34m)\u001b[0m\u001b[0;34m\u001b[0m\u001b[0;34m\u001b[0m\u001b[0m\n\u001b[0;32m--> 546\u001b[0;31m         \u001b[0;32mreturn\u001b[0m \u001b[0mself\u001b[0m\u001b[0;34m.\u001b[0m\u001b[0mrequest\u001b[0m\u001b[0;34m(\u001b[0m\u001b[0;34m'GET'\u001b[0m\u001b[0;34m,\u001b[0m \u001b[0murl\u001b[0m\u001b[0;34m,\u001b[0m \u001b[0;34m**\u001b[0m\u001b[0mkwargs\u001b[0m\u001b[0;34m)\u001b[0m\u001b[0;34m\u001b[0m\u001b[0;34m\u001b[0m\u001b[0m\n\u001b[0m\u001b[1;32m    547\u001b[0m \u001b[0;34m\u001b[0m\u001b[0m\n\u001b[1;32m    548\u001b[0m     \u001b[0;32mdef\u001b[0m \u001b[0moptions\u001b[0m\u001b[0;34m(\u001b[0m\u001b[0mself\u001b[0m\u001b[0;34m,\u001b[0m \u001b[0murl\u001b[0m\u001b[0;34m,\u001b[0m \u001b[0;34m**\u001b[0m\u001b[0mkwargs\u001b[0m\u001b[0;34m)\u001b[0m\u001b[0;34m:\u001b[0m\u001b[0;34m\u001b[0m\u001b[0;34m\u001b[0m\u001b[0m\n",
            "\u001b[0;32m/usr/local/lib/python3.6/dist-packages/dwave/cloud/utils.py\u001b[0m in \u001b[0;36mrequest\u001b[0;34m(self, method, url, *args, **kwargs)\u001b[0m\n\u001b[1;32m    304\u001b[0m         \u001b[0murl\u001b[0m \u001b[0;34m=\u001b[0m \u001b[0mself\u001b[0m\u001b[0;34m.\u001b[0m\u001b[0mcreate_url\u001b[0m\u001b[0;34m(\u001b[0m\u001b[0murl\u001b[0m\u001b[0;34m)\u001b[0m\u001b[0;34m\u001b[0m\u001b[0;34m\u001b[0m\u001b[0m\n\u001b[1;32m    305\u001b[0m         return super(BaseUrlSession, self).request(\n\u001b[0;32m--> 306\u001b[0;31m             \u001b[0mmethod\u001b[0m\u001b[0;34m,\u001b[0m \u001b[0murl\u001b[0m\u001b[0;34m,\u001b[0m \u001b[0;34m*\u001b[0m\u001b[0margs\u001b[0m\u001b[0;34m,\u001b[0m \u001b[0;34m**\u001b[0m\u001b[0mkwargs\u001b[0m\u001b[0;34m\u001b[0m\u001b[0;34m\u001b[0m\u001b[0m\n\u001b[0m\u001b[1;32m    307\u001b[0m         )\n\u001b[1;32m    308\u001b[0m \u001b[0;34m\u001b[0m\u001b[0m\n",
            "\u001b[0;32m/usr/local/lib/python3.6/dist-packages/requests/sessions.py\u001b[0m in \u001b[0;36mrequest\u001b[0;34m(self, method, url, params, data, headers, cookies, files, auth, timeout, allow_redirects, proxies, hooks, stream, verify, cert, json)\u001b[0m\n\u001b[1;32m    531\u001b[0m         }\n\u001b[1;32m    532\u001b[0m         \u001b[0msend_kwargs\u001b[0m\u001b[0;34m.\u001b[0m\u001b[0mupdate\u001b[0m\u001b[0;34m(\u001b[0m\u001b[0msettings\u001b[0m\u001b[0;34m)\u001b[0m\u001b[0;34m\u001b[0m\u001b[0;34m\u001b[0m\u001b[0m\n\u001b[0;32m--> 533\u001b[0;31m         \u001b[0mresp\u001b[0m \u001b[0;34m=\u001b[0m \u001b[0mself\u001b[0m\u001b[0;34m.\u001b[0m\u001b[0msend\u001b[0m\u001b[0;34m(\u001b[0m\u001b[0mprep\u001b[0m\u001b[0;34m,\u001b[0m \u001b[0;34m**\u001b[0m\u001b[0msend_kwargs\u001b[0m\u001b[0;34m)\u001b[0m\u001b[0;34m\u001b[0m\u001b[0;34m\u001b[0m\u001b[0m\n\u001b[0m\u001b[1;32m    534\u001b[0m \u001b[0;34m\u001b[0m\u001b[0m\n\u001b[1;32m    535\u001b[0m         \u001b[0;32mreturn\u001b[0m \u001b[0mresp\u001b[0m\u001b[0;34m\u001b[0m\u001b[0;34m\u001b[0m\u001b[0m\n",
            "\u001b[0;32m/usr/local/lib/python3.6/dist-packages/requests/sessions.py\u001b[0m in \u001b[0;36msend\u001b[0;34m(self, request, **kwargs)\u001b[0m\n\u001b[1;32m    644\u001b[0m \u001b[0;34m\u001b[0m\u001b[0m\n\u001b[1;32m    645\u001b[0m         \u001b[0;31m# Send the request\u001b[0m\u001b[0;34m\u001b[0m\u001b[0;34m\u001b[0m\u001b[0;34m\u001b[0m\u001b[0m\n\u001b[0;32m--> 646\u001b[0;31m         \u001b[0mr\u001b[0m \u001b[0;34m=\u001b[0m \u001b[0madapter\u001b[0m\u001b[0;34m.\u001b[0m\u001b[0msend\u001b[0m\u001b[0;34m(\u001b[0m\u001b[0mrequest\u001b[0m\u001b[0;34m,\u001b[0m \u001b[0;34m**\u001b[0m\u001b[0mkwargs\u001b[0m\u001b[0;34m)\u001b[0m\u001b[0;34m\u001b[0m\u001b[0;34m\u001b[0m\u001b[0m\n\u001b[0m\u001b[1;32m    647\u001b[0m \u001b[0;34m\u001b[0m\u001b[0m\n\u001b[1;32m    648\u001b[0m         \u001b[0;31m# Total elapsed time of the request (approximately)\u001b[0m\u001b[0;34m\u001b[0m\u001b[0;34m\u001b[0m\u001b[0;34m\u001b[0m\u001b[0m\n",
            "\u001b[0;32m/usr/local/lib/python3.6/dist-packages/dwave/cloud/utils.py\u001b[0m in \u001b[0;36msend\u001b[0;34m(self, *args, **kwargs)\u001b[0m\n\u001b[1;32m    282\u001b[0m         \u001b[0;31m# can't use setdefault because caller always sets timeout kwarg\u001b[0m\u001b[0;34m\u001b[0m\u001b[0;34m\u001b[0m\u001b[0;34m\u001b[0m\u001b[0m\n\u001b[1;32m    283\u001b[0m         \u001b[0mkwargs\u001b[0m\u001b[0;34m[\u001b[0m\u001b[0;34m'timeout'\u001b[0m\u001b[0;34m]\u001b[0m \u001b[0;34m=\u001b[0m \u001b[0mself\u001b[0m\u001b[0;34m.\u001b[0m\u001b[0mtimeout\u001b[0m\u001b[0;34m\u001b[0m\u001b[0;34m\u001b[0m\u001b[0m\n\u001b[0;32m--> 284\u001b[0;31m         \u001b[0;32mreturn\u001b[0m \u001b[0msuper\u001b[0m\u001b[0;34m(\u001b[0m\u001b[0mTimeoutingHTTPAdapter\u001b[0m\u001b[0;34m,\u001b[0m \u001b[0mself\u001b[0m\u001b[0;34m)\u001b[0m\u001b[0;34m.\u001b[0m\u001b[0msend\u001b[0m\u001b[0;34m(\u001b[0m\u001b[0;34m*\u001b[0m\u001b[0margs\u001b[0m\u001b[0;34m,\u001b[0m \u001b[0;34m**\u001b[0m\u001b[0mkwargs\u001b[0m\u001b[0;34m)\u001b[0m\u001b[0;34m\u001b[0m\u001b[0;34m\u001b[0m\u001b[0m\n\u001b[0m\u001b[1;32m    285\u001b[0m \u001b[0;34m\u001b[0m\u001b[0m\n\u001b[1;32m    286\u001b[0m \u001b[0;34m\u001b[0m\u001b[0m\n",
            "\u001b[0;32m/usr/local/lib/python3.6/dist-packages/requests/adapters.py\u001b[0m in \u001b[0;36msend\u001b[0;34m(self, request, stream, timeout, verify, cert, proxies)\u001b[0m\n\u001b[1;32m    447\u001b[0m                     \u001b[0mdecode_content\u001b[0m\u001b[0;34m=\u001b[0m\u001b[0;32mFalse\u001b[0m\u001b[0;34m,\u001b[0m\u001b[0;34m\u001b[0m\u001b[0;34m\u001b[0m\u001b[0m\n\u001b[1;32m    448\u001b[0m                     \u001b[0mretries\u001b[0m\u001b[0;34m=\u001b[0m\u001b[0mself\u001b[0m\u001b[0;34m.\u001b[0m\u001b[0mmax_retries\u001b[0m\u001b[0;34m,\u001b[0m\u001b[0;34m\u001b[0m\u001b[0;34m\u001b[0m\u001b[0m\n\u001b[0;32m--> 449\u001b[0;31m                     \u001b[0mtimeout\u001b[0m\u001b[0;34m=\u001b[0m\u001b[0mtimeout\u001b[0m\u001b[0;34m\u001b[0m\u001b[0;34m\u001b[0m\u001b[0m\n\u001b[0m\u001b[1;32m    450\u001b[0m                 )\n\u001b[1;32m    451\u001b[0m \u001b[0;34m\u001b[0m\u001b[0m\n",
            "\u001b[0;32m/usr/local/lib/python3.6/dist-packages/urllib3/connectionpool.py\u001b[0m in \u001b[0;36murlopen\u001b[0;34m(self, method, url, body, headers, retries, redirect, assert_same_host, timeout, pool_timeout, release_conn, chunked, body_pos, **response_kw)\u001b[0m\n\u001b[1;32m    598\u001b[0m                                                   \u001b[0mtimeout\u001b[0m\u001b[0;34m=\u001b[0m\u001b[0mtimeout_obj\u001b[0m\u001b[0;34m,\u001b[0m\u001b[0;34m\u001b[0m\u001b[0;34m\u001b[0m\u001b[0m\n\u001b[1;32m    599\u001b[0m                                                   \u001b[0mbody\u001b[0m\u001b[0;34m=\u001b[0m\u001b[0mbody\u001b[0m\u001b[0;34m,\u001b[0m \u001b[0mheaders\u001b[0m\u001b[0;34m=\u001b[0m\u001b[0mheaders\u001b[0m\u001b[0;34m,\u001b[0m\u001b[0;34m\u001b[0m\u001b[0;34m\u001b[0m\u001b[0m\n\u001b[0;32m--> 600\u001b[0;31m                                                   chunked=chunked)\n\u001b[0m\u001b[1;32m    601\u001b[0m \u001b[0;34m\u001b[0m\u001b[0m\n\u001b[1;32m    602\u001b[0m             \u001b[0;31m# If we're going to release the connection in ``finally:``, then\u001b[0m\u001b[0;34m\u001b[0m\u001b[0;34m\u001b[0m\u001b[0;34m\u001b[0m\u001b[0m\n",
            "\u001b[0;32m/usr/local/lib/python3.6/dist-packages/urllib3/connectionpool.py\u001b[0m in \u001b[0;36m_make_request\u001b[0;34m(self, conn, method, url, timeout, chunked, **httplib_request_kw)\u001b[0m\n\u001b[1;32m    378\u001b[0m             \u001b[0;32mexcept\u001b[0m \u001b[0mTypeError\u001b[0m\u001b[0;34m:\u001b[0m  \u001b[0;31m# Python 3\u001b[0m\u001b[0;34m\u001b[0m\u001b[0;34m\u001b[0m\u001b[0m\n\u001b[1;32m    379\u001b[0m                 \u001b[0;32mtry\u001b[0m\u001b[0;34m:\u001b[0m\u001b[0;34m\u001b[0m\u001b[0;34m\u001b[0m\u001b[0m\n\u001b[0;32m--> 380\u001b[0;31m                     \u001b[0mhttplib_response\u001b[0m \u001b[0;34m=\u001b[0m \u001b[0mconn\u001b[0m\u001b[0;34m.\u001b[0m\u001b[0mgetresponse\u001b[0m\u001b[0;34m(\u001b[0m\u001b[0;34m)\u001b[0m\u001b[0;34m\u001b[0m\u001b[0;34m\u001b[0m\u001b[0m\n\u001b[0m\u001b[1;32m    381\u001b[0m                 \u001b[0;32mexcept\u001b[0m \u001b[0mException\u001b[0m \u001b[0;32mas\u001b[0m \u001b[0me\u001b[0m\u001b[0;34m:\u001b[0m\u001b[0;34m\u001b[0m\u001b[0;34m\u001b[0m\u001b[0m\n\u001b[1;32m    382\u001b[0m                     \u001b[0;31m# Remove the TypeError from the exception chain in Python 3;\u001b[0m\u001b[0;34m\u001b[0m\u001b[0;34m\u001b[0m\u001b[0;34m\u001b[0m\u001b[0m\n",
            "\u001b[0;32m/usr/lib/python3.6/http/client.py\u001b[0m in \u001b[0;36mgetresponse\u001b[0;34m(self)\u001b[0m\n\u001b[1;32m   1344\u001b[0m         \u001b[0;32mtry\u001b[0m\u001b[0;34m:\u001b[0m\u001b[0;34m\u001b[0m\u001b[0;34m\u001b[0m\u001b[0m\n\u001b[1;32m   1345\u001b[0m             \u001b[0;32mtry\u001b[0m\u001b[0;34m:\u001b[0m\u001b[0;34m\u001b[0m\u001b[0;34m\u001b[0m\u001b[0m\n\u001b[0;32m-> 1346\u001b[0;31m                 \u001b[0mresponse\u001b[0m\u001b[0;34m.\u001b[0m\u001b[0mbegin\u001b[0m\u001b[0;34m(\u001b[0m\u001b[0;34m)\u001b[0m\u001b[0;34m\u001b[0m\u001b[0;34m\u001b[0m\u001b[0m\n\u001b[0m\u001b[1;32m   1347\u001b[0m             \u001b[0;32mexcept\u001b[0m \u001b[0mConnectionError\u001b[0m\u001b[0;34m:\u001b[0m\u001b[0;34m\u001b[0m\u001b[0;34m\u001b[0m\u001b[0m\n\u001b[1;32m   1348\u001b[0m                 \u001b[0mself\u001b[0m\u001b[0;34m.\u001b[0m\u001b[0mclose\u001b[0m\u001b[0;34m(\u001b[0m\u001b[0;34m)\u001b[0m\u001b[0;34m\u001b[0m\u001b[0;34m\u001b[0m\u001b[0m\n",
            "\u001b[0;32m/usr/lib/python3.6/http/client.py\u001b[0m in \u001b[0;36mbegin\u001b[0;34m(self)\u001b[0m\n\u001b[1;32m    305\u001b[0m         \u001b[0;31m# read until we get a non-100 response\u001b[0m\u001b[0;34m\u001b[0m\u001b[0;34m\u001b[0m\u001b[0;34m\u001b[0m\u001b[0m\n\u001b[1;32m    306\u001b[0m         \u001b[0;32mwhile\u001b[0m \u001b[0;32mTrue\u001b[0m\u001b[0;34m:\u001b[0m\u001b[0;34m\u001b[0m\u001b[0;34m\u001b[0m\u001b[0m\n\u001b[0;32m--> 307\u001b[0;31m             \u001b[0mversion\u001b[0m\u001b[0;34m,\u001b[0m \u001b[0mstatus\u001b[0m\u001b[0;34m,\u001b[0m \u001b[0mreason\u001b[0m \u001b[0;34m=\u001b[0m \u001b[0mself\u001b[0m\u001b[0;34m.\u001b[0m\u001b[0m_read_status\u001b[0m\u001b[0;34m(\u001b[0m\u001b[0;34m)\u001b[0m\u001b[0;34m\u001b[0m\u001b[0;34m\u001b[0m\u001b[0m\n\u001b[0m\u001b[1;32m    308\u001b[0m             \u001b[0;32mif\u001b[0m \u001b[0mstatus\u001b[0m \u001b[0;34m!=\u001b[0m \u001b[0mCONTINUE\u001b[0m\u001b[0;34m:\u001b[0m\u001b[0;34m\u001b[0m\u001b[0;34m\u001b[0m\u001b[0m\n\u001b[1;32m    309\u001b[0m                 \u001b[0;32mbreak\u001b[0m\u001b[0;34m\u001b[0m\u001b[0;34m\u001b[0m\u001b[0m\n",
            "\u001b[0;32m/usr/lib/python3.6/http/client.py\u001b[0m in \u001b[0;36m_read_status\u001b[0;34m(self)\u001b[0m\n\u001b[1;32m    266\u001b[0m \u001b[0;34m\u001b[0m\u001b[0m\n\u001b[1;32m    267\u001b[0m     \u001b[0;32mdef\u001b[0m \u001b[0m_read_status\u001b[0m\u001b[0;34m(\u001b[0m\u001b[0mself\u001b[0m\u001b[0;34m)\u001b[0m\u001b[0;34m:\u001b[0m\u001b[0;34m\u001b[0m\u001b[0;34m\u001b[0m\u001b[0m\n\u001b[0;32m--> 268\u001b[0;31m         \u001b[0mline\u001b[0m \u001b[0;34m=\u001b[0m \u001b[0mstr\u001b[0m\u001b[0;34m(\u001b[0m\u001b[0mself\u001b[0m\u001b[0;34m.\u001b[0m\u001b[0mfp\u001b[0m\u001b[0;34m.\u001b[0m\u001b[0mreadline\u001b[0m\u001b[0;34m(\u001b[0m\u001b[0m_MAXLINE\u001b[0m \u001b[0;34m+\u001b[0m \u001b[0;36m1\u001b[0m\u001b[0;34m)\u001b[0m\u001b[0;34m,\u001b[0m \u001b[0;34m\"iso-8859-1\"\u001b[0m\u001b[0;34m)\u001b[0m\u001b[0;34m\u001b[0m\u001b[0;34m\u001b[0m\u001b[0m\n\u001b[0m\u001b[1;32m    269\u001b[0m         \u001b[0;32mif\u001b[0m \u001b[0mlen\u001b[0m\u001b[0;34m(\u001b[0m\u001b[0mline\u001b[0m\u001b[0;34m)\u001b[0m \u001b[0;34m>\u001b[0m \u001b[0m_MAXLINE\u001b[0m\u001b[0;34m:\u001b[0m\u001b[0;34m\u001b[0m\u001b[0;34m\u001b[0m\u001b[0m\n\u001b[1;32m    270\u001b[0m             \u001b[0;32mraise\u001b[0m \u001b[0mLineTooLong\u001b[0m\u001b[0;34m(\u001b[0m\u001b[0;34m\"status line\"\u001b[0m\u001b[0;34m)\u001b[0m\u001b[0;34m\u001b[0m\u001b[0;34m\u001b[0m\u001b[0m\n",
            "\u001b[0;32m/usr/lib/python3.6/socket.py\u001b[0m in \u001b[0;36mreadinto\u001b[0;34m(self, b)\u001b[0m\n\u001b[1;32m    584\u001b[0m         \u001b[0;32mwhile\u001b[0m \u001b[0;32mTrue\u001b[0m\u001b[0;34m:\u001b[0m\u001b[0;34m\u001b[0m\u001b[0;34m\u001b[0m\u001b[0m\n\u001b[1;32m    585\u001b[0m             \u001b[0;32mtry\u001b[0m\u001b[0;34m:\u001b[0m\u001b[0;34m\u001b[0m\u001b[0;34m\u001b[0m\u001b[0m\n\u001b[0;32m--> 586\u001b[0;31m                 \u001b[0;32mreturn\u001b[0m \u001b[0mself\u001b[0m\u001b[0;34m.\u001b[0m\u001b[0m_sock\u001b[0m\u001b[0;34m.\u001b[0m\u001b[0mrecv_into\u001b[0m\u001b[0;34m(\u001b[0m\u001b[0mb\u001b[0m\u001b[0;34m)\u001b[0m\u001b[0;34m\u001b[0m\u001b[0;34m\u001b[0m\u001b[0m\n\u001b[0m\u001b[1;32m    587\u001b[0m             \u001b[0;32mexcept\u001b[0m \u001b[0mtimeout\u001b[0m\u001b[0;34m:\u001b[0m\u001b[0;34m\u001b[0m\u001b[0;34m\u001b[0m\u001b[0m\n\u001b[1;32m    588\u001b[0m                 \u001b[0mself\u001b[0m\u001b[0;34m.\u001b[0m\u001b[0m_timeout_occurred\u001b[0m \u001b[0;34m=\u001b[0m \u001b[0;32mTrue\u001b[0m\u001b[0;34m\u001b[0m\u001b[0;34m\u001b[0m\u001b[0m\n",
            "\u001b[0;32m/usr/lib/python3.6/ssl.py\u001b[0m in \u001b[0;36mrecv_into\u001b[0;34m(self, buffer, nbytes, flags)\u001b[0m\n\u001b[1;32m   1010\u001b[0m                   \u001b[0;34m\"non-zero flags not allowed in calls to recv_into() on %s\"\u001b[0m \u001b[0;34m%\u001b[0m\u001b[0;34m\u001b[0m\u001b[0;34m\u001b[0m\u001b[0m\n\u001b[1;32m   1011\u001b[0m                   self.__class__)\n\u001b[0;32m-> 1012\u001b[0;31m             \u001b[0;32mreturn\u001b[0m \u001b[0mself\u001b[0m\u001b[0;34m.\u001b[0m\u001b[0mread\u001b[0m\u001b[0;34m(\u001b[0m\u001b[0mnbytes\u001b[0m\u001b[0;34m,\u001b[0m \u001b[0mbuffer\u001b[0m\u001b[0;34m)\u001b[0m\u001b[0;34m\u001b[0m\u001b[0;34m\u001b[0m\u001b[0m\n\u001b[0m\u001b[1;32m   1013\u001b[0m         \u001b[0;32melse\u001b[0m\u001b[0;34m:\u001b[0m\u001b[0;34m\u001b[0m\u001b[0;34m\u001b[0m\u001b[0m\n\u001b[1;32m   1014\u001b[0m             \u001b[0;32mreturn\u001b[0m \u001b[0msocket\u001b[0m\u001b[0;34m.\u001b[0m\u001b[0mrecv_into\u001b[0m\u001b[0;34m(\u001b[0m\u001b[0mself\u001b[0m\u001b[0;34m,\u001b[0m \u001b[0mbuffer\u001b[0m\u001b[0;34m,\u001b[0m \u001b[0mnbytes\u001b[0m\u001b[0;34m,\u001b[0m \u001b[0mflags\u001b[0m\u001b[0;34m)\u001b[0m\u001b[0;34m\u001b[0m\u001b[0;34m\u001b[0m\u001b[0m\n",
            "\u001b[0;32m/usr/lib/python3.6/ssl.py\u001b[0m in \u001b[0;36mread\u001b[0;34m(self, len, buffer)\u001b[0m\n\u001b[1;32m    872\u001b[0m             \u001b[0;32mraise\u001b[0m \u001b[0mValueError\u001b[0m\u001b[0;34m(\u001b[0m\u001b[0;34m\"Read on closed or unwrapped SSL socket.\"\u001b[0m\u001b[0;34m)\u001b[0m\u001b[0;34m\u001b[0m\u001b[0;34m\u001b[0m\u001b[0m\n\u001b[1;32m    873\u001b[0m         \u001b[0;32mtry\u001b[0m\u001b[0;34m:\u001b[0m\u001b[0;34m\u001b[0m\u001b[0;34m\u001b[0m\u001b[0m\n\u001b[0;32m--> 874\u001b[0;31m             \u001b[0;32mreturn\u001b[0m \u001b[0mself\u001b[0m\u001b[0;34m.\u001b[0m\u001b[0m_sslobj\u001b[0m\u001b[0;34m.\u001b[0m\u001b[0mread\u001b[0m\u001b[0;34m(\u001b[0m\u001b[0mlen\u001b[0m\u001b[0;34m,\u001b[0m \u001b[0mbuffer\u001b[0m\u001b[0;34m)\u001b[0m\u001b[0;34m\u001b[0m\u001b[0;34m\u001b[0m\u001b[0m\n\u001b[0m\u001b[1;32m    875\u001b[0m         \u001b[0;32mexcept\u001b[0m \u001b[0mSSLError\u001b[0m \u001b[0;32mas\u001b[0m \u001b[0mx\u001b[0m\u001b[0;34m:\u001b[0m\u001b[0;34m\u001b[0m\u001b[0;34m\u001b[0m\u001b[0m\n\u001b[1;32m    876\u001b[0m             \u001b[0;32mif\u001b[0m \u001b[0mx\u001b[0m\u001b[0;34m.\u001b[0m\u001b[0margs\u001b[0m\u001b[0;34m[\u001b[0m\u001b[0;36m0\u001b[0m\u001b[0;34m]\u001b[0m \u001b[0;34m==\u001b[0m \u001b[0mSSL_ERROR_EOF\u001b[0m \u001b[0;32mand\u001b[0m \u001b[0mself\u001b[0m\u001b[0;34m.\u001b[0m\u001b[0msuppress_ragged_eofs\u001b[0m\u001b[0;34m:\u001b[0m\u001b[0;34m\u001b[0m\u001b[0;34m\u001b[0m\u001b[0m\n",
            "\u001b[0;32m/usr/lib/python3.6/ssl.py\u001b[0m in \u001b[0;36mread\u001b[0;34m(self, len, buffer)\u001b[0m\n\u001b[1;32m    629\u001b[0m         \"\"\"\n\u001b[1;32m    630\u001b[0m         \u001b[0;32mif\u001b[0m \u001b[0mbuffer\u001b[0m \u001b[0;32mis\u001b[0m \u001b[0;32mnot\u001b[0m \u001b[0;32mNone\u001b[0m\u001b[0;34m:\u001b[0m\u001b[0;34m\u001b[0m\u001b[0;34m\u001b[0m\u001b[0m\n\u001b[0;32m--> 631\u001b[0;31m             \u001b[0mv\u001b[0m \u001b[0;34m=\u001b[0m \u001b[0mself\u001b[0m\u001b[0;34m.\u001b[0m\u001b[0m_sslobj\u001b[0m\u001b[0;34m.\u001b[0m\u001b[0mread\u001b[0m\u001b[0;34m(\u001b[0m\u001b[0mlen\u001b[0m\u001b[0;34m,\u001b[0m \u001b[0mbuffer\u001b[0m\u001b[0;34m)\u001b[0m\u001b[0;34m\u001b[0m\u001b[0;34m\u001b[0m\u001b[0m\n\u001b[0m\u001b[1;32m    632\u001b[0m         \u001b[0;32melse\u001b[0m\u001b[0;34m:\u001b[0m\u001b[0;34m\u001b[0m\u001b[0;34m\u001b[0m\u001b[0m\n\u001b[1;32m    633\u001b[0m             \u001b[0mv\u001b[0m \u001b[0;34m=\u001b[0m \u001b[0mself\u001b[0m\u001b[0;34m.\u001b[0m\u001b[0m_sslobj\u001b[0m\u001b[0;34m.\u001b[0m\u001b[0mread\u001b[0m\u001b[0;34m(\u001b[0m\u001b[0mlen\u001b[0m\u001b[0;34m)\u001b[0m\u001b[0;34m\u001b[0m\u001b[0;34m\u001b[0m\u001b[0m\n",
            "\u001b[0;31mKeyboardInterrupt\u001b[0m: "
          ]
        }
      ]
    },
    {
      "cell_type": "code",
      "metadata": {
        "id": "jE7ng1Db78z6",
        "colab_type": "code",
        "outputId": "ffac9840-51e6-4ca6-90c5-250c6fe1670f",
        "colab": {
          "base_uri": "https://localhost:8080/",
          "height": 726
        }
      },
      "source": [
        "fig, axes = plt.subplots(nrows=2, ncols=2, figsize=(12,8))\n",
        "plt.subplots_adjust(wspace=0.4)\n",
        "\n",
        "fontsize = 10\n",
        "axes[0,0].plot(result[\"cluster\"], result[\"time\"][\"all\"], color = 'black')\n",
        "axes[0,0].set_xlabel('cluster', fontsize=fontsize)\n",
        "axes[0,0].set_ylabel('Total time', fontsize=fontsize)\n",
        "\n",
        "axes[0,1].plot(result[\"cluster\"], result[\"score\"][\"silhouette_coef\"], color = 'black')\n",
        "axes[0,1].set_xlabel('cluster', fontsize=fontsize)\n",
        "axes[0,1].set_ylabel('silhouette coefficient', fontsize=fontsize)\n",
        "\n",
        "axes[1,0].plot(result[\"cluster\"], result[\"score\"][\"calinski_harabasz\"], color = 'black')\n",
        "axes[1,0].set_xlabel('cluster', fontsize=fontsize)\n",
        "axes[1,0].set_ylabel('calinski harabasz index', fontsize=fontsize)\n",
        "\n",
        "axes[1,1].plot(result[\"cluster\"], result[\"score\"][\"davies_bouldin\"], color = 'black')\n",
        "axes[1,1].set_xlabel('cluster', fontsize=fontsize)\n",
        "axes[1,1].set_ylabel('davies bouldin index', fontsize=fontsize)\n",
        "\n",
        "plt.show()"
      ],
      "execution_count": 0,
      "outputs": [
        {
          "output_type": "error",
          "ename": "NameError",
          "evalue": "ignored",
          "traceback": [
            "\u001b[0;31m---------------------------------------------------------------------------\u001b[0m",
            "\u001b[0;31mNameError\u001b[0m                                 Traceback (most recent call last)",
            "\u001b[0;32m<ipython-input-12-5d5467b9a41d>\u001b[0m in \u001b[0;36m<module>\u001b[0;34m()\u001b[0m\n\u001b[1;32m      3\u001b[0m \u001b[0;34m\u001b[0m\u001b[0m\n\u001b[1;32m      4\u001b[0m \u001b[0mfontsize\u001b[0m \u001b[0;34m=\u001b[0m \u001b[0;36m10\u001b[0m\u001b[0;34m\u001b[0m\u001b[0;34m\u001b[0m\u001b[0m\n\u001b[0;32m----> 5\u001b[0;31m \u001b[0maxes\u001b[0m\u001b[0;34m[\u001b[0m\u001b[0;36m0\u001b[0m\u001b[0;34m,\u001b[0m\u001b[0;36m0\u001b[0m\u001b[0;34m]\u001b[0m\u001b[0;34m.\u001b[0m\u001b[0mplot\u001b[0m\u001b[0;34m(\u001b[0m\u001b[0mresult\u001b[0m\u001b[0;34m[\u001b[0m\u001b[0;34m\"cluster\"\u001b[0m\u001b[0;34m]\u001b[0m\u001b[0;34m,\u001b[0m \u001b[0mresult\u001b[0m\u001b[0;34m[\u001b[0m\u001b[0;34m\"time\"\u001b[0m\u001b[0;34m]\u001b[0m\u001b[0;34m[\u001b[0m\u001b[0;34m\"all\"\u001b[0m\u001b[0;34m]\u001b[0m\u001b[0;34m,\u001b[0m \u001b[0mcolor\u001b[0m \u001b[0;34m=\u001b[0m \u001b[0;34m'black'\u001b[0m\u001b[0;34m)\u001b[0m\u001b[0;34m\u001b[0m\u001b[0;34m\u001b[0m\u001b[0m\n\u001b[0m\u001b[1;32m      6\u001b[0m \u001b[0maxes\u001b[0m\u001b[0;34m[\u001b[0m\u001b[0;36m0\u001b[0m\u001b[0;34m,\u001b[0m\u001b[0;36m0\u001b[0m\u001b[0;34m]\u001b[0m\u001b[0;34m.\u001b[0m\u001b[0mset_xlabel\u001b[0m\u001b[0;34m(\u001b[0m\u001b[0;34m'cluster'\u001b[0m\u001b[0;34m,\u001b[0m \u001b[0mfontsize\u001b[0m\u001b[0;34m=\u001b[0m\u001b[0mfontsize\u001b[0m\u001b[0;34m)\u001b[0m\u001b[0;34m\u001b[0m\u001b[0;34m\u001b[0m\u001b[0m\n\u001b[1;32m      7\u001b[0m \u001b[0maxes\u001b[0m\u001b[0;34m[\u001b[0m\u001b[0;36m0\u001b[0m\u001b[0;34m,\u001b[0m\u001b[0;36m0\u001b[0m\u001b[0;34m]\u001b[0m\u001b[0;34m.\u001b[0m\u001b[0mset_ylabel\u001b[0m\u001b[0;34m(\u001b[0m\u001b[0;34m'Total time'\u001b[0m\u001b[0;34m,\u001b[0m \u001b[0mfontsize\u001b[0m\u001b[0;34m=\u001b[0m\u001b[0mfontsize\u001b[0m\u001b[0;34m)\u001b[0m\u001b[0;34m\u001b[0m\u001b[0;34m\u001b[0m\u001b[0m\n",
            "\u001b[0;31mNameError\u001b[0m: name 'result' is not defined"
          ]
        },
        {
          "output_type": "display_data",
          "data": {
            "image/png": "[encoded data removed]",
            "text/plain": [
              "<Figure size 864x576 with 4 Axes>"
            ]
          },
          "metadata": {
            "tags": []
          }
        }
      ]
    },
    {
      "cell_type": "code",
      "metadata": {
        "id": "XRG-KHg98YqM",
        "colab_type": "code",
        "outputId": "f5e194d8-bb1e-42bc-b445-232b7a5869cf",
        "colab": {
          "base_uri": "https://localhost:8080/",
          "height": 236
        }
      },
      "source": [
        "score = ['silhouette coefficient', 'calinski harabasz index', 'davies bouldin index']\n",
        "cluster = result[\"cluster\"]\n",
        "\n",
        "dataframe = [\n",
        "             result[\"score\"][\"silhouette_coef\"],\n",
        "             result[\"score\"][\"calinski_harabasz\"],\n",
        "             result[\"score\"][\"davies_bouldin\"]\n",
        "]\n",
        "df = pd.DataFrame(dataframe, index=score, columns=cluster)\n",
        "\n",
        "# 表を画像として描画\n",
        "fig,ax = plt.subplots(figsize=((len(df.columns)+1)*3.0, (len(df)+1)*0.4))\n",
        "ax.axis('off')\n",
        "tbl = ax.table(cellText=df.values,\n",
        "               bbox=[0,0,1,1],\n",
        "               colLabels=df.columns,\n",
        "               rowLabels=df.index)\n",
        "\n",
        "plt.show()"
      ],
      "execution_count": 0,
      "outputs": [
        {
          "output_type": "error",
          "ename": "NameError",
          "evalue": "ignored",
          "traceback": [
            "\u001b[0;31m---------------------------------------------------------------------------\u001b[0m",
            "\u001b[0;31mNameError\u001b[0m                                 Traceback (most recent call last)",
            "\u001b[0;32m<ipython-input-13-ef5f73d1a278>\u001b[0m in \u001b[0;36m<module>\u001b[0;34m()\u001b[0m\n\u001b[1;32m      1\u001b[0m \u001b[0mscore\u001b[0m \u001b[0;34m=\u001b[0m \u001b[0;34m[\u001b[0m\u001b[0;34m'silhouette coefficient'\u001b[0m\u001b[0;34m,\u001b[0m \u001b[0;34m'calinski harabasz index'\u001b[0m\u001b[0;34m,\u001b[0m \u001b[0;34m'davies bouldin index'\u001b[0m\u001b[0;34m]\u001b[0m\u001b[0;34m\u001b[0m\u001b[0;34m\u001b[0m\u001b[0m\n\u001b[0;32m----> 2\u001b[0;31m \u001b[0mcluster\u001b[0m \u001b[0;34m=\u001b[0m \u001b[0mresult\u001b[0m\u001b[0;34m[\u001b[0m\u001b[0;34m\"cluster\"\u001b[0m\u001b[0;34m]\u001b[0m\u001b[0;34m\u001b[0m\u001b[0;34m\u001b[0m\u001b[0m\n\u001b[0m\u001b[1;32m      3\u001b[0m \u001b[0;34m\u001b[0m\u001b[0m\n\u001b[1;32m      4\u001b[0m dataframe = [\n\u001b[1;32m      5\u001b[0m              \u001b[0mresult\u001b[0m\u001b[0;34m[\u001b[0m\u001b[0;34m\"score\"\u001b[0m\u001b[0;34m]\u001b[0m\u001b[0;34m[\u001b[0m\u001b[0;34m\"silhouette_coef\"\u001b[0m\u001b[0;34m]\u001b[0m\u001b[0;34m,\u001b[0m\u001b[0;34m\u001b[0m\u001b[0;34m\u001b[0m\u001b[0m\n",
            "\u001b[0;31mNameError\u001b[0m: name 'result' is not defined"
          ]
        }
      ]
    },
    {
      "cell_type": "code",
      "metadata": {
        "id": "AQmQ0dL09fzv",
        "colab_type": "code",
        "colab": {}
      },
      "source": [
        ""
      ],
      "execution_count": 0,
      "outputs": []
    }
  ]
}